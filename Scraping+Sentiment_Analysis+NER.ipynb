{
  "nbformat": 4,
  "nbformat_minor": 0,
  "metadata": {
    "colab": {
      "name": "Scraping + Sentiment Analysis + NER",
      "provenance": [],
      "authorship_tag": "ABX9TyP7vlr1k2VSQnT2jYGfq4OM",
      "include_colab_link": true
    },
    "kernelspec": {
      "display_name": "Python 3",
      "name": "python3"
    },
    "language_info": {
      "name": "python"
    }
  },
  "cells": [
    {
      "cell_type": "markdown",
      "metadata": {
        "id": "view-in-github",
        "colab_type": "text"
      },
      "source": [
        "<a href=\"https://colab.research.google.com/github/Dawudis/Political-Web-Scraping-Project/blob/main/Scraping%2BSentiment_Analysis%2BNER.ipynb\" target=\"_parent\"><img src=\"https://colab.research.google.com/assets/colab-badge.svg\" alt=\"Open In Colab\"/></a>"
      ]
    },
    {
      "cell_type": "markdown",
      "metadata": {
        "id": "dmBCkbqEn8Sw"
      },
      "source": [
        "# **Install/Import Dependencies**"
      ]
    },
    {
      "cell_type": "code",
      "metadata": {
        "id": "PK8GI2Fzk10w"
      },
      "source": [
        "!pip install torch==1.8.1+cu111 torchvision==0.9.1+cu111 torchaudio===0.8.1 -f https://download.pytorch.org/whl/torch_stable.html\n",
        "import torch"
      ],
      "execution_count": null,
      "outputs": []
    },
    {
      "cell_type": "code",
      "metadata": {
        "id": "vAaBlZ3K_CJR"
      },
      "source": [
        "!pip install requests \n",
        "!pip install beautifulsoup4 \n",
        "import requests\n",
        "import re\n",
        "from bs4 import BeautifulSoup\n"
      ],
      "execution_count": null,
      "outputs": []
    },
    {
      "cell_type": "code",
      "metadata": {
        "id": "RQyhxISOZOFx"
      },
      "source": [
        "!pip install transformers \n",
        "from transformers import AutoTokenizer, AutoModelForSequenceClassification\n",
        "tokenizer = AutoTokenizer.from_pretrained('nlptown/bert-base-multilingual-uncased-sentiment')\n",
        "model = AutoModelForSequenceClassification.from_pretrained('nlptown/bert-base-multilingual-uncased-sentiment')"
      ],
      "execution_count": null,
      "outputs": []
    },
    {
      "cell_type": "code",
      "metadata": {
        "id": "v-3k56NFpMu8"
      },
      "source": [
        "!pip install newspaper3k\n",
        "import newspaper\n",
        "from newspaper import Article"
      ],
      "execution_count": null,
      "outputs": []
    },
    {
      "cell_type": "code",
      "metadata": {
        "id": "WVYIkx0TpdGj"
      },
      "source": [
        "!pip install -U spacy\n",
        "!python -m spacy download en\n",
        "import spacy\n",
        "import en_core_web_sm\n",
        "nlp = en_core_web_sm.load()"
      ],
      "execution_count": null,
      "outputs": []
    },
    {
      "cell_type": "code",
      "metadata": {
        "id": "Yo-EbWCjpfPE"
      },
      "source": [
        "!pip install numpy pandas\n",
        "import numpy as np\n",
        "import pandas as pd"
      ],
      "execution_count": null,
      "outputs": []
    },
    {
      "cell_type": "markdown",
      "metadata": {
        "id": "BZASVvfMoUaG"
      },
      "source": [
        "# **Scrape Articles**"
      ]
    },
    {
      "cell_type": "code",
      "metadata": {
        "id": "ZDAdhnXhWf78",
        "colab": {
          "base_uri": "https://localhost:8080/"
        },
        "outputId": "264c22a3-8077-47ca-da5b-a39b6c96c12a"
      },
      "source": [
        "site = newspaper.build(\"https://apnews.com/hub/joe-biden\", memoize_articles=False)  \n",
        "# get list of article URLs\n",
        "site.article_urls()"
      ],
      "execution_count": 36,
      "outputs": [
        {
          "output_type": "execute_result",
          "data": {
            "text/plain": [
              "['https://apnews.com/article/coronavirus-pandemic-joe-biden-business-pandemics-congress-7466507d8f33fbc94a4c5bf0f329f6a2',\n",
              " 'https://apnews.com/article/joe-biden-business-congress-mitch-mcconnell-bills-e444072fb3b2f7d5a02793bf48d9ae96',\n",
              " 'https://apnews.com/article/joe-biden-technology-business-janet-yellen-51dfb6aab4f6988aa5420224d4a8c7c5',\n",
              " 'https://apnews.com/article/joe-biden-dzhokhar-tsarnaev-boston-courts-bombings-3a784f624dc605fda09af8ffe0188977',\n",
              " 'https://apnews.com/article/joe-biden-donald-trump-politics-dana-remus-congress-a385eb9c716589a34238c1a6cc069105',\n",
              " 'https://apnews.com/article/coronavirus-pandemic-joe-biden-scott-wiener-bills-health-de858f78c2e7dd2bb26a25bb49a2b591',\n",
              " 'https://apnews.com/article/joe-biden-business-congress-economy-bills-f2b52bc7ff5d1f241ed12e73e382c6b8',\n",
              " 'https://apnews.com/article/donald-trump-business-congress-capitol-siege-subpoenas-375f0349971f87d30ffd24fe5b8bbdf0',\n",
              " 'https://apnews.com/article/joe-biden-donald-trump-lifestyle-business-environment-1d8b5a0ff3814f78c5e8bc97c37fc32e',\n",
              " 'https://apnews.com/article/joe-biden-science-technology-business-biometrics-b9dbf5fee3bf0e407b988b31e21f5300',\n",
              " 'https://apnews.com/article/joe-biden-business-robert-menendez-joe-donnelly-barack-obama-4b4ad0224735103ec17c7d4d7907db75',\n",
              " 'https://apnews.com/article/coronavirus-pandemic-joe-biden-business-health-economy-25b12c2efc01275368fbeff9ac0b3a93',\n",
              " 'https://apnews.com/article/joe-biden-lifestyle-holidays-columbus-day-a1ad30d52ad7ff80aa8e7621e2f9a425',\n",
              " 'https://apnews.com/article/joe-biden-syracuse-nyc-state-wire-binghamton-united-states-dc28bc7a518112a0c549786eabe855c2',\n",
              " 'https://apnews.com/article/joe-biden-business-ireland-europe-economic-policy-e9d41bb030271808cd045c62bd6fb6d3',\n",
              " 'https://apnews.com/article/joe-biden-lifestyle-business-juneteenth-travel-cf8ce7c4d40c1488c941400b3f3f5f0e',\n",
              " 'https://apnews.com/article/climate-change-joe-biden-business-lloyd-austin-a5c79e8a005c7c4db8a61cf0e6a4267a',\n",
              " 'https://apnews.com/article/coronavirus-pandemic-joe-biden-science-business-health-62291dd94de2ec922bd9a76cbf389d66',\n",
              " 'https://apnews.com/article/joe-biden-congress-eeae09b4577d27bbe5f82c8bba1af2fe',\n",
              " 'https://apnews.com/article/joe-biden-business-congress-mitch-mcconnell-6e330d9fb94b73787ea70e7807b87151',\n",
              " 'https://apnews.com/article/donald-trump-joe-biden-utah-environment-and-nature-b763897fc47136339bd12360a90079c0',\n",
              " 'https://apnews.com/article/joe-biden-congress-3d3e926b5856b36f82818b8a2d916231',\n",
              " 'https://apnews.com/article/joe-biden-donald-trump-richmond-misinformation-virginia-6b3632967a7ef2a26c2a6def1699a4fd',\n",
              " 'https://apnews.com/article/donald-trump-joe-biden-arizona-phoenix-election-recounts-5a9e21b9b86c7ff99bca151e39c4fcee',\n",
              " 'https://apnews.com/article/coronavirus-pandemic-joe-biden-business-health-6e758dc5e24320677e48f58cbfca37bf',\n",
              " 'https://apnews.com/article/joe-biden-business-new-orleans-louisiana-minimum-wage-619a966b5b3a0c839d313995924de7aa',\n",
              " 'https://apnews.com/article/coronavirus-pandemic-business-health-9fce00cff9c9144d1adb50c93a40f65d',\n",
              " 'https://apnews.com/article/joe-biden-yang-jiechi-jake-sullivan-china-taiwan-2c9b05c7c8f40200493ca70cd4930c20',\n",
              " 'https://apnews.com/article/joe-biden-technology-cia-china-beijing-a9482ab89d6a715da4250f86befa9ecb',\n",
              " 'https://apnews.com/article/congress-debt-ceiling-2d9b07bd2bf1ed41efed31759c3d6bb6',\n",
              " 'https://apnews.com/article/joe-biden-business-yang-jiechi-zurich-jake-sullivan-849ea601c2ffd61e6a8c0976876d8d63',\n",
              " 'https://apnews.com/article/coronavirus-pandemic-joe-biden-business-redistricting-legislature-3f7ef3e5fd069338f774fd0546b96585',\n",
              " 'https://apnews.com/article/immigration-donald-trump-joe-biden-pete-ricketts-iowa-b266591210b738d2e8402e1130305ff1',\n",
              " 'https://apnews.com/article/coronavirus-pandemic-joe-biden-brad-little-idaho-health-5f4a14e07084727a33f0197b7d31fbfb',\n",
              " 'https://apnews.com/article/wisconsin-supreme-court-milwaukee-wisconsin-green-bay-voting-1d7813de77111628fd352e2b66975819',\n",
              " 'https://apnews.com/article/joe-biden-boston-massachusetts-trials-courts-1087c54fa6f5e48d6240b6645fa80a52',\n",
              " 'https://apnews.com/article/joe-biden-donald-trump-barack-obama-wv-state-wire-courts-8022d7d2b87ad83420dc03b4830da6f7',\n",
              " 'https://apnews.com/article/donald-trump-joe-biden-business-environment-laws-b9b11271df132f6b6c9d30e8034580be',\n",
              " 'https://apnews.com/article/joe-biden-business-congress-f6fc8e4ea79642a7e04e28211c00db9a',\n",
              " 'https://apnews.com/article/r-kelly-donald-trump-joe-biden-manhattan-new-york-7d2520ad15fde871b44d0c444bdcf762',\n",
              " 'https://apnews.com/article/immigration-joe-biden-brad-little-idaho-mexico-673488ba46977c8c744f550eefbe9161',\n",
              " 'https://apnews.com/article/joe-biden-business-congress-filibusters-daf3d1c1e78a764b01af043ac2617cc6',\n",
              " 'https://apnews.com/article/joe-biden-congress-nancy-pelosi-michigan-bills-548bcd8ad570e5d71ca2c9cff5fdb64d',\n",
              " 'https://apnews.com/article/diane-allen-new-jersey-elections-56ffda6cfbd4edbf48a846ed1148ba35',\n",
              " 'https://apnews.com/article/joe-biden-patty-murray-washington-seattle-courts-255b98f20af4293282e8f5c04a66579b',\n",
              " 'https://apnews.com/article/coronavirus-pandemic-joe-biden-business-bills-legislature-9b9ec6737d45d01a8e7d650182a74d23',\n",
              " 'https://apnews.com/article/coronavirus-pandemic-joe-biden-business-xi-jinping-taiwan-56429a6c261af8d1808fa67efe94217a',\n",
              " 'https://apnews.com/article/joe-biden-europe-ukraine-campaign-contributions-elections-6f10e1e1e0d654b84a5a55c717d50b3f',\n",
              " 'https://apnews.com/article/immigration-joe-biden-kim-reynolds-brad-little-iowa-6e948c239600e612e522b24920feb597',\n",
              " 'https://apnews.com/article/coronavirus-pandemic-business-elections-japan-yoshihide-suga-2d4a19512144a41c1f68f7f970ee258e',\n",
              " 'https://apnews.com/article/business-charlie-baker-massachusetts-transportation-biden-cabinet-f4666a498cd13018bca1ffa29ed8d93f',\n",
              " 'https://apnews.com/article/topeka-kansas-foster-care-child-welfare-biden-cabinet-09dd72e3f8d91a367dadadcb55926028',\n",
              " 'https://apnews.com/article/business-technology-biden-cabinet-michigan-gretchen-whitmer-ae7bee61ef11832e7e6fe2a698878e4a',\n",
              " 'https://apnews.com/article/elections-wisconsin-education-biden-cabinet-cabinets-5ac890d52f7aa711fe6466569e4de58e',\n",
              " 'https://apnews.com/article/business-taliban-islamabad-middle-east-islamic-state-group-4d419bb70259f93f7165169889d05ff1',\n",
              " 'https://apnews.com/article/covid-vaccine-russia-travel-serbia-sputnik-v-02aa2bc49d00299493aa46c1af5e15a2',\n",
              " 'https://apnews.com/article/abortion-coronavirus-pandemic-us-supreme-court-austin-health-6256c7cd37d86ec93bcfa511cebdb1f0',\n",
              " 'https://apnews.com/article/europe-austria-3eb18d26c4e3ddfde86c104200be933d',\n",
              " 'https://apnews.com/article/science-europe-africa-palma-atlantic-ocean-fc4fb478667c9b48a12fa4ae5aaf64f0',\n",
              " 'https://apnews.com/article/abortion-us-supreme-court-austin-courts-health-8f8f701e4bb857e7cd39bd45daa02063',\n",
              " 'https://apnews.com/article/andrej-babis-czech-republic-europe-elections-parliamentary-elections-cc40e51610a6dc5cc613931fc72792fb',\n",
              " 'https://apnews.com/article/joint-chiefs-of-staff-raymond-t-odierno-middle-east-iraq-army-7dc54d83e3a72a33643d9cf8655c8d38',\n",
              " 'https://apnews.com/article/business-only-on-ap-taliban-kabul-afghanistan-312374ad26aa5741394b2308bfd99487',\n",
              " 'https://apnews.com/article/coronavirus-pandemic-europe-kidnapping-health-79761187c5d2767a8a27072a0e2d81ef',\n",
              " 'https://apnews.com/article/coronavirus-pandemic-misinformation-health-433991ea434e12ccfdf97b5db415310d',\n",
              " 'https://apnews.com/article/anti-virus-chiropractors-rising-force-misinformation-02b347767b45cab1d6d532be03c57529',\n",
              " 'https://apnews.com/article/wildfires-science-business-fires-environment-a5bc4932be70d28ee408ea8102e3398c',\n",
              " 'https://apnews.com/article/lifestyle-ohio-school-boards-racial-injustice-election-2020-a27a6ea4b7d4acc07173ebf7fa494257',\n",
              " 'https://apnews.com/article/xi-jinping-taipei-beijing-taiwan-china-61f510599558249f9afa839052c4000a',\n",
              " 'https://apnews.com/article/nobel-prizes-dmitry-muratov-maria-ressa-oslo-novaya-gazeta-b3b797adcc261accbb4cc986e1401416',\n",
              " 'https://apnews.com/article/coronavirus-pandemic-business-italy-mario-draghi-health-436d20f53f526a11b746c262ccf84315',\n",
              " 'https://apnews.com/article/coronavirus-pandemic-science-nevada-pandemics-health-7d09b1f6da8f991be505deb12b16a837',\n",
              " 'https://apnews.com/article/coronavirus-pandemic-moscow-europe-russia-health-cac40f6eae4fbee9fa53bc36ee2eb653',\n",
              " 'https://apnews.com/article/coronavirus-pandemic-soccer-sports-business-pandemics-5bec21dc6234c259a7bf6a94b77aeb46',\n",
              " 'https://apnews.com/article/cryptocurrency-coronavirus-pandemic-technology-business-europe-f7f754fc2c68b0eb0d712239323f26c3',\n",
              " 'https://apnews.com/article/rfid-military-weapons-guns-62c88008478f4ac403047c21f3184677',\n",
              " 'https://apnews.com/article/china-oceans-overfishing-squid-294ff1e489589b2510cc806ec898c78f',\n",
              " 'https://apnews.com/article/business-health-pandemics-infectious-diseases-arkansas-d79d2550671cedc5d532fa04d1747248',\n",
              " 'https://apnews.com/article/lashana-lynch-james-bond-007-2bc23631d2e62ea1bc2cd9774add9f05',\n",
              " 'https://apnews.com/article/entertainment-business-lifestyle-music-james-blake-0f2640ddf38764f91f6462c59c31b542',\n",
              " 'https://apnews.com/article/entertainment-cuba-music-arts-and-entertainment-94c0260619c4c3991da530a95b8a6c40',\n",
              " 'https://apnews.com/article/nobel-prizes-entertainment-england-europe-migration-86810ba7377931d3b443823508d7e2a9',\n",
              " 'https://apnews.com/article/nobel-prizes-dmitry-muratov-europe-russia-censorship-3ffd9ee291f3501ad0a5ff80caa7ce19',\n",
              " 'https://apnews.com/article/film-reviews-entertainment-fran-kranz-reed-birney-jason-isaacs-96bb47ebf021c4906d2192a4947b1451',\n",
              " 'https://apnews.com/article/film-reviews-entertainment-lifestyle-arts-and-entertainment-caves-15fc13435e2191728602e9d808d2ca74',\n",
              " 'https://apnews.com/article/film-reviews-entertainment-arts-and-entertainment-tom-hardy-andy-serkis-e94a51f7631859d2d83989c1b1c80864',\n",
              " 'https://apnews.com/article/film-reviews-entertainment-arts-and-entertainment-julia-ducournau-9e874fd567faa295fa9dddaeee005d95',\n",
              " 'https://apnews.com/article/film-reviews-entertainment-arts-and-entertainment-newark-reviews-b6d6d83bb2f450c2ba9591e49082452b',\n",
              " 'https://apnews.com/article/nashville-lawsuits-b4e4f3c99760768ab5acb7ee4cbd9164',\n",
              " 'https://apnews.com/article/oddities-denmark-europe-norway-9686a14c8228d2ce15afde4a41d47bd8',\n",
              " 'https://apnews.com/article/yuriko-koike-tokyo-japan-giant-pandas-environment-and-nature-548d973fc5639332ed6422fbef908cc0',\n",
              " 'https://apnews.com/article/oddities-business-bangkok-thailand-floods-367adb4b24f53a90a5c6bd069d105d93',\n",
              " 'https://apnews.com/article/college-football-sports-caleb-kelly-kennedy-brooks-oklahoma-sooners-football-07f5b24d3a9918abf6c7fbf63dbdad42',\n",
              " 'https://apnews.com/article/college-football-sports-braylon-sanders-lane-kiffin-sam-williams-0c49611e69bdc58b1353e346180682f0',\n",
              " 'https://apnews.com/article/college-football-sports-master-teague-garrett-wilson-ohio-state-buckeyes-football-1517e11a185ee559bd156ac099824234',\n",
              " 'https://apnews.com/article/mlb-sports-houston-astros-tony-la-russa-chicago-white-sox-e2946eb2f39946d8038c11794b792a01',\n",
              " 'https://apnews.com/article/sports-mark-few-spokane-college-basketball-gonzaga-bulldogs-mens-basketball-e776093aaf0b09e3a716f2ec2a24294b']"
            ]
          },
          "metadata": {},
          "execution_count": 36
        }
      ]
    },
    {
      "cell_type": "code",
      "metadata": {
        "id": "g1C7Xbfen2mh"
      },
      "source": [
        "top_articles = []\n",
        "for index in range(20):\n",
        "    article = site.articles[index]\n",
        "    article.download()\n",
        "    article.parse()\n",
        "    top_articles.append(article.text)"
      ],
      "execution_count": 37,
      "outputs": []
    },
    {
      "cell_type": "markdown",
      "metadata": {
        "id": "fSCjPh2Zowpx"
      },
      "source": [
        "# **Configure DataFrame and Apply Sentiment Analysis + NER**"
      ]
    },
    {
      "cell_type": "code",
      "metadata": {
        "id": "2A3rcI7-W-8P"
      },
      "source": [
        "df = pd.DataFrame(np.array(top_articles), columns=['articles'])"
      ],
      "execution_count": 38,
      "outputs": []
    },
    {
      "cell_type": "code",
      "metadata": {
        "id": "OWhLqEsAXKz9"
      },
      "source": [
        "def sentiment_score(articles):\n",
        "    tokens = tokenizer.encode(articles, return_tensors='pt')\n",
        "    result = model(tokens)\n",
        "    return int(torch.argmax(result.logits))+1"
      ],
      "execution_count": 39,
      "outputs": []
    },
    {
      "cell_type": "code",
      "metadata": {
        "id": "yaDIw7hJXkI3"
      },
      "source": [
        "df['sentiment'] = df['articles'].apply(lambda x: sentiment_score(x[:512]))"
      ],
      "execution_count": 40,
      "outputs": []
    },
    {
      "cell_type": "code",
      "metadata": {
        "id": "2ULANsRAWuZJ"
      },
      "source": [
        "df['named entities'] = df['articles'].apply(lambda x: list(nlp(x).ents))"
      ],
      "execution_count": 41,
      "outputs": []
    },
    {
      "cell_type": "code",
      "metadata": {
        "id": "AMmdf7d4ZjVQ",
        "colab": {
          "base_uri": "https://localhost:8080/",
          "height": 669
        },
        "outputId": "471d6cb2-6280-41b6-cc90-3906f3a82dff"
      },
      "source": [
        "df"
      ],
      "execution_count": 42,
      "outputs": [
        {
          "output_type": "execute_result",
          "data": {
            "text/html": [
              "<div>\n",
              "<style scoped>\n",
              "    .dataframe tbody tr th:only-of-type {\n",
              "        vertical-align: middle;\n",
              "    }\n",
              "\n",
              "    .dataframe tbody tr th {\n",
              "        vertical-align: top;\n",
              "    }\n",
              "\n",
              "    .dataframe thead th {\n",
              "        text-align: right;\n",
              "    }\n",
              "</style>\n",
              "<table border=\"1\" class=\"dataframe\">\n",
              "  <thead>\n",
              "    <tr style=\"text-align: right;\">\n",
              "      <th></th>\n",
              "      <th>articles</th>\n",
              "      <th>sentiment</th>\n",
              "      <th>named entities</th>\n",
              "    </tr>\n",
              "  </thead>\n",
              "  <tbody>\n",
              "    <tr>\n",
              "      <th>0</th>\n",
              "      <td>FILE - In this Sept. 20, 2021, file photo, Sen...</td>\n",
              "      <td>3</td>\n",
              "      <td>[(FILE), (this, Sept., 20, ,, 2021), (Roger, M...</td>\n",
              "    </tr>\n",
              "    <tr>\n",
              "      <th>1</th>\n",
              "      <td>In this Oct. 7, 2021, photo, Senate Minority L...</td>\n",
              "      <td>4</td>\n",
              "      <td>[(this, Oct., 7, ,, 2021), (Senate), (Mitch, M...</td>\n",
              "    </tr>\n",
              "    <tr>\n",
              "      <th>2</th>\n",
              "      <td>FILE - In this Monday, Nov. 18, 2019 file phot...</td>\n",
              "      <td>1</td>\n",
              "      <td>[(FILE), (this, Monday, ,, Nov., 18, ,, 2019),...</td>\n",
              "    </tr>\n",
              "    <tr>\n",
              "      <th>3</th>\n",
              "      <td>FILE - In this April 16, 2013, file photo, inv...</td>\n",
              "      <td>1</td>\n",
              "      <td>[(FILE), (this, April, 16, ,, 2013), (second),...</td>\n",
              "    </tr>\n",
              "    <tr>\n",
              "      <th>4</th>\n",
              "      <td>President Joe Biden waits to speak on the Nort...</td>\n",
              "      <td>4</td>\n",
              "      <td>[(Joe, Biden), (the, North, Lawn), (the, White...</td>\n",
              "    </tr>\n",
              "    <tr>\n",
              "      <th>5</th>\n",
              "      <td>FILE - In this June 3, 2021, file photo, Calif...</td>\n",
              "      <td>1</td>\n",
              "      <td>[(FILE), (this, June, 3, ,, 2021), (California...</td>\n",
              "    </tr>\n",
              "    <tr>\n",
              "      <th>6</th>\n",
              "      <td>WASHINGTON (AP) — Senate Minority Leader Mitch...</td>\n",
              "      <td>1</td>\n",
              "      <td>[(WASHINGTON), (AP), (Senate), (Mitch, McConne...</td>\n",
              "    </tr>\n",
              "    <tr>\n",
              "      <th>7</th>\n",
              "      <td>President Joe Biden waits to speak on the Nort...</td>\n",
              "      <td>4</td>\n",
              "      <td>[(Joe, Biden), (the, North, Lawn), (the, White...</td>\n",
              "    </tr>\n",
              "    <tr>\n",
              "      <th>8</th>\n",
              "      <td>President Joe Biden speaks outside the White H...</td>\n",
              "      <td>4</td>\n",
              "      <td>[(Joe, Biden), (the, White, House), (Washingto...</td>\n",
              "    </tr>\n",
              "    <tr>\n",
              "      <th>9</th>\n",
              "      <td>FILE - In this Jan. 16, 2021 file photo, Eric ...</td>\n",
              "      <td>1</td>\n",
              "      <td>[(FILE), (this, Jan., 16), (Eric, Lander), (Wi...</td>\n",
              "    </tr>\n",
              "    <tr>\n",
              "      <th>10</th>\n",
              "      <td>President Joe Biden arrives to speak on the No...</td>\n",
              "      <td>4</td>\n",
              "      <td>[(Joe, Biden), (the, North, Lawn), (the, White...</td>\n",
              "    </tr>\n",
              "    <tr>\n",
              "      <th>11</th>\n",
              "      <td>President Joe Biden speaks outside the White H...</td>\n",
              "      <td>4</td>\n",
              "      <td>[(Joe, Biden), (the, White, House), (Washingto...</td>\n",
              "    </tr>\n",
              "    <tr>\n",
              "      <th>12</th>\n",
              "      <td>President Joe Biden gestures on the North Lawn...</td>\n",
              "      <td>4</td>\n",
              "      <td>[(Joe, Biden), (the, North, Lawn), (the, White...</td>\n",
              "    </tr>\n",
              "    <tr>\n",
              "      <th>13</th>\n",
              "      <td>SYRACUSE, N.Y. (AP) — Carla Freedman was sworn...</td>\n",
              "      <td>4</td>\n",
              "      <td>[(SYRACUSE), (N.Y.), (AP), (Carla, Freedman), ...</td>\n",
              "    </tr>\n",
              "    <tr>\n",
              "      <th>14</th>\n",
              "      <td>FILE - In this June 7, 2017 file photo, the Or...</td>\n",
              "      <td>1</td>\n",
              "      <td>[(FILE), (this, June, 7), (2017), (the, Organi...</td>\n",
              "    </tr>\n",
              "    <tr>\n",
              "      <th>15</th>\n",
              "      <td>Opal Lee pauses as she gives a tour of her hom...</td>\n",
              "      <td>3</td>\n",
              "      <td>[(Opal, Lee), (Thursday, ,, July, 1, ,, 2021),...</td>\n",
              "    </tr>\n",
              "    <tr>\n",
              "      <th>16</th>\n",
              "      <td>FILE - In this Sept. 29, 2021, file photo, Def...</td>\n",
              "      <td>1</td>\n",
              "      <td>[(FILE), (this, Sept., 29, ,, 2021), (Defense)...</td>\n",
              "    </tr>\n",
              "    <tr>\n",
              "      <th>17</th>\n",
              "      <td>New FDA chief can’t come soon enough for belea...</td>\n",
              "      <td>1</td>\n",
              "      <td>[(FDA), (this, Dec., 10, ,, 2020), (the, Food,...</td>\n",
              "    </tr>\n",
              "    <tr>\n",
              "      <th>18</th>\n",
              "      <td>Rep. Pramila Jayapal, D-Wash., chair of the ne...</td>\n",
              "      <td>4</td>\n",
              "      <td>[(Pramila, Jayapal), (nearly, 100), (Congressi...</td>\n",
              "    </tr>\n",
              "    <tr>\n",
              "      <th>19</th>\n",
              "      <td>WASHINGTON (AP) — The Senate dodged a U.S. deb...</td>\n",
              "      <td>1</td>\n",
              "      <td>[(WASHINGTON), (AP), (Senate), (U.S.), (Thursd...</td>\n",
              "    </tr>\n",
              "  </tbody>\n",
              "</table>\n",
              "</div>"
            ],
            "text/plain": [
              "                                             articles  ...                                     named entities\n",
              "0   FILE - In this Sept. 20, 2021, file photo, Sen...  ...  [(FILE), (this, Sept., 20, ,, 2021), (Roger, M...\n",
              "1   In this Oct. 7, 2021, photo, Senate Minority L...  ...  [(this, Oct., 7, ,, 2021), (Senate), (Mitch, M...\n",
              "2   FILE - In this Monday, Nov. 18, 2019 file phot...  ...  [(FILE), (this, Monday, ,, Nov., 18, ,, 2019),...\n",
              "3   FILE - In this April 16, 2013, file photo, inv...  ...  [(FILE), (this, April, 16, ,, 2013), (second),...\n",
              "4   President Joe Biden waits to speak on the Nort...  ...  [(Joe, Biden), (the, North, Lawn), (the, White...\n",
              "5   FILE - In this June 3, 2021, file photo, Calif...  ...  [(FILE), (this, June, 3, ,, 2021), (California...\n",
              "6   WASHINGTON (AP) — Senate Minority Leader Mitch...  ...  [(WASHINGTON), (AP), (Senate), (Mitch, McConne...\n",
              "7   President Joe Biden waits to speak on the Nort...  ...  [(Joe, Biden), (the, North, Lawn), (the, White...\n",
              "8   President Joe Biden speaks outside the White H...  ...  [(Joe, Biden), (the, White, House), (Washingto...\n",
              "9   FILE - In this Jan. 16, 2021 file photo, Eric ...  ...  [(FILE), (this, Jan., 16), (Eric, Lander), (Wi...\n",
              "10  President Joe Biden arrives to speak on the No...  ...  [(Joe, Biden), (the, North, Lawn), (the, White...\n",
              "11  President Joe Biden speaks outside the White H...  ...  [(Joe, Biden), (the, White, House), (Washingto...\n",
              "12  President Joe Biden gestures on the North Lawn...  ...  [(Joe, Biden), (the, North, Lawn), (the, White...\n",
              "13  SYRACUSE, N.Y. (AP) — Carla Freedman was sworn...  ...  [(SYRACUSE), (N.Y.), (AP), (Carla, Freedman), ...\n",
              "14  FILE - In this June 7, 2017 file photo, the Or...  ...  [(FILE), (this, June, 7), (2017), (the, Organi...\n",
              "15  Opal Lee pauses as she gives a tour of her hom...  ...  [(Opal, Lee), (Thursday, ,, July, 1, ,, 2021),...\n",
              "16  FILE - In this Sept. 29, 2021, file photo, Def...  ...  [(FILE), (this, Sept., 29, ,, 2021), (Defense)...\n",
              "17  New FDA chief can’t come soon enough for belea...  ...  [(FDA), (this, Dec., 10, ,, 2020), (the, Food,...\n",
              "18  Rep. Pramila Jayapal, D-Wash., chair of the ne...  ...  [(Pramila, Jayapal), (nearly, 100), (Congressi...\n",
              "19  WASHINGTON (AP) — The Senate dodged a U.S. deb...  ...  [(WASHINGTON), (AP), (Senate), (U.S.), (Thursd...\n",
              "\n",
              "[20 rows x 3 columns]"
            ]
          },
          "metadata": {},
          "execution_count": 42
        }
      ]
    }
  ]
}