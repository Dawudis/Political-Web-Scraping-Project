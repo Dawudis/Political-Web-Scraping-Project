{
  "nbformat": 4,
  "nbformat_minor": 0,
  "metadata": {
    "colab": {
      "name": "Scraping + Sentiment Analysis + NER",
      "provenance": [],
      "authorship_tag": "ABX9TyOowh/8fOHHrspHIaZi9kOk",
      "include_colab_link": true
    },
    "kernelspec": {
      "display_name": "Python 3",
      "name": "python3"
    },
    "language_info": {
      "name": "python"
    }
  },
  "cells": [
    {
      "cell_type": "markdown",
      "metadata": {
        "id": "view-in-github",
        "colab_type": "text"
      },
      "source": [
        "<a href=\"https://colab.research.google.com/github/Dawudis/Political-Web-Scraping-Project/blob/main/Scraping_%2B_Sentiment_Analysis_%2B_NER.ipynb\" target=\"_parent\"><img src=\"https://colab.research.google.com/assets/colab-badge.svg\" alt=\"Open In Colab\"/></a>"
      ]
    },
    {
      "cell_type": "markdown",
      "metadata": {
        "id": "dmBCkbqEn8Sw"
      },
      "source": [
        "# **Install/Import Dependencies**"
      ]
    },
    {
      "cell_type": "code",
      "metadata": {
        "id": "PK8GI2Fzk10w"
      },
      "source": [
        "!pip install torch==1.8.1+cu111 torchvision==0.9.1+cu111 torchaudio===0.8.1 -f https://download.pytorch.org/whl/torch_stable.html\n",
        "import torch"
      ],
      "execution_count": null,
      "outputs": []
    },
    {
      "cell_type": "code",
      "metadata": {
        "id": "RQyhxISOZOFx"
      },
      "source": [
        "!pip install transformers \n",
        "from transformers import AutoTokenizer, AutoModelForSequenceClassification\n",
        "tokenizer = AutoTokenizer.from_pretrained('nlptown/bert-base-multilingual-uncased-sentiment')\n",
        "model = AutoModelForSequenceClassification.from_pretrained('nlptown/bert-base-multilingual-uncased-sentiment')"
      ],
      "execution_count": null,
      "outputs": []
    },
    {
      "cell_type": "code",
      "metadata": {
        "id": "v-3k56NFpMu8"
      },
      "source": [
        "!pip install newspaper3k\n",
        "import newspaper\n",
        "from newspaper import Article"
      ],
      "execution_count": null,
      "outputs": []
    },
    {
      "cell_type": "code",
      "metadata": {
        "id": "WVYIkx0TpdGj"
      },
      "source": [
        "!pip install -U spacy\n",
        "!python -m spacy download en\n",
        "import spacy\n",
        "import en_core_web_sm\n",
        "nlp = en_core_web_sm.load()"
      ],
      "execution_count": null,
      "outputs": []
    },
    {
      "cell_type": "code",
      "metadata": {
        "id": "Yo-EbWCjpfPE"
      },
      "source": [
        "!pip install numpy pandas\n",
        "import numpy as np\n",
        "import pandas as pd"
      ],
      "execution_count": null,
      "outputs": []
    },
    {
      "cell_type": "markdown",
      "metadata": {
        "id": "BZASVvfMoUaG"
      },
      "source": [
        "# **Scrape Articles**"
      ]
    },
    {
      "cell_type": "code",
      "metadata": {
        "id": "ZDAdhnXhWf78",
        "colab": {
          "base_uri": "https://localhost:8080/"
        },
        "outputId": "5ec6d4e5-a68f-4630-d33b-2a635d9a0f3b"
      },
      "source": [
        "site = newspaper.build(\"https://apnews.com/hub/joe-biden\", memoize_articles=False)  \n",
        "# get list of article URLs\n",
        "site.article_urls()"
      ],
      "execution_count": null,
      "outputs": [
        {
          "output_type": "execute_result",
          "data": {
            "text/plain": [
              "['https://apnews.com/hub/ap-top-25-college-football-poll?utm_source=apnewsnav&utm_medium=featured',\n",
              " 'https://apnews.com/article/joe-biden-business-ireland-europe-economic-policy-e9d41bb030271808cd045c62bd6fb6d3',\n",
              " 'https://apnews.com/article/donald-trump-joe-biden-us-supreme-court-congress-capitol-siege-13803c23a094992233df3b6880d2808b',\n",
              " 'https://apnews.com/article/columbus-indigenous-peoples-day-b00777738e9d0ae411e9b6acad223371',\n",
              " 'https://apnews.com/article/joe-biden-entertainment-sports-pennsylvania-washington-791612241de52339ec42be7430fc8323',\n",
              " 'https://apnews.com/article/coronavirus-pandemic-joe-biden-business-health-shipbuilding-25a44711104a349b80ee7b98d399dcd5',\n",
              " 'https://apnews.com/article/joe-biden-business-congress-filibusters-27ee5558714da1347b68d58952cc137b',\n",
              " 'https://apnews.com/article/joe-biden-technology-business-china-russia-c9a698542ed95bfa49f9cee0e96ef9a6',\n",
              " 'https://apnews.com/article/joe-biden-joe-donnelly-todd-young-south-bend-indiana-d02b3c23ac032dc3ef8aed949a10b238',\n",
              " 'https://apnews.com/article/coronavirus-pandemic-donald-trump-joe-biden-business-health-c1645564f5ced76356e8423b5e12f103',\n",
              " 'https://apnews.com/article/joe-biden-donald-trump-george-clooney-andrew-marr-europe-892f8495a5e67524ac6d216bad50850f',\n",
              " 'https://apnews.com/article/joint-chiefs-of-staff-raymond-t-odierno-middle-east-iraq-army-7dc54d83e3a72a33643d9cf8655c8d38',\n",
              " 'https://apnews.com/article/coronavirus-pandemic-joe-biden-business-pandemics-congress-7466507d8f33fbc94a4c5bf0f329f6a2',\n",
              " 'https://apnews.com/article/joe-biden-business-congress-mitch-mcconnell-bills-e444072fb3b2f7d5a02793bf48d9ae96',\n",
              " 'https://apnews.com/article/joe-biden-dzhokhar-tsarnaev-boston-courts-bombings-3a784f624dc605fda09af8ffe0188977',\n",
              " 'https://apnews.com/article/joe-biden-donald-trump-politics-dana-remus-congress-a385eb9c716589a34238c1a6cc069105',\n",
              " 'https://apnews.com/article/coronavirus-pandemic-joe-biden-scott-wiener-bills-health-de858f78c2e7dd2bb26a25bb49a2b591',\n",
              " 'https://apnews.com/article/joe-biden-business-congress-economy-bills-f2b52bc7ff5d1f241ed12e73e382c6b8',\n",
              " 'https://apnews.com/article/donald-trump-business-congress-capitol-siege-subpoenas-375f0349971f87d30ffd24fe5b8bbdf0',\n",
              " 'https://apnews.com/article/joe-biden-donald-trump-lifestyle-business-environment-1d8b5a0ff3814f78c5e8bc97c37fc32e',\n",
              " 'https://apnews.com/article/joe-biden-science-technology-business-biometrics-b9dbf5fee3bf0e407b988b31e21f5300',\n",
              " 'https://apnews.com/article/joe-biden-business-robert-menendez-joe-donnelly-barack-obama-4b4ad0224735103ec17c7d4d7907db75',\n",
              " 'https://apnews.com/article/coronavirus-pandemic-joe-biden-business-health-economy-25b12c2efc01275368fbeff9ac0b3a93',\n",
              " 'https://apnews.com/article/joe-biden-lifestyle-holidays-columbus-day-a1ad30d52ad7ff80aa8e7621e2f9a425',\n",
              " 'https://apnews.com/article/joe-biden-syracuse-nyc-state-wire-binghamton-united-states-dc28bc7a518112a0c549786eabe855c2',\n",
              " 'https://apnews.com/article/joe-biden-lifestyle-business-juneteenth-travel-cf8ce7c4d40c1488c941400b3f3f5f0e',\n",
              " 'https://apnews.com/article/climate-change-joe-biden-business-lloyd-austin-a5c79e8a005c7c4db8a61cf0e6a4267a',\n",
              " 'https://apnews.com/article/coronavirus-pandemic-joe-biden-science-business-health-62291dd94de2ec922bd9a76cbf389d66',\n",
              " 'https://apnews.com/article/joe-biden-congress-eeae09b4577d27bbe5f82c8bba1af2fe',\n",
              " 'https://apnews.com/article/joe-biden-business-congress-mitch-mcconnell-6e330d9fb94b73787ea70e7807b87151',\n",
              " 'https://apnews.com/article/donald-trump-joe-biden-utah-environment-and-nature-b763897fc47136339bd12360a90079c0',\n",
              " 'https://apnews.com/article/joe-biden-congress-3d3e926b5856b36f82818b8a2d916231',\n",
              " 'https://apnews.com/article/joe-biden-donald-trump-richmond-misinformation-virginia-6b3632967a7ef2a26c2a6def1699a4fd',\n",
              " 'https://apnews.com/article/donald-trump-joe-biden-arizona-phoenix-election-recounts-5a9e21b9b86c7ff99bca151e39c4fcee',\n",
              " 'https://apnews.com/article/coronavirus-pandemic-joe-biden-business-health-6e758dc5e24320677e48f58cbfca37bf',\n",
              " 'https://apnews.com/article/joe-biden-business-new-orleans-louisiana-minimum-wage-619a966b5b3a0c839d313995924de7aa',\n",
              " 'https://apnews.com/article/coronavirus-pandemic-business-health-9fce00cff9c9144d1adb50c93a40f65d',\n",
              " 'https://apnews.com/article/joe-biden-yang-jiechi-jake-sullivan-china-taiwan-2c9b05c7c8f40200493ca70cd4930c20',\n",
              " 'https://apnews.com/article/joe-biden-technology-cia-china-beijing-a9482ab89d6a715da4250f86befa9ecb',\n",
              " 'https://apnews.com/article/congress-debt-ceiling-2d9b07bd2bf1ed41efed31759c3d6bb6',\n",
              " 'https://apnews.com/article/joe-biden-business-yang-jiechi-zurich-jake-sullivan-849ea601c2ffd61e6a8c0976876d8d63',\n",
              " 'https://apnews.com/article/coronavirus-pandemic-joe-biden-business-redistricting-legislature-3f7ef3e5fd069338f774fd0546b96585',\n",
              " 'https://apnews.com/article/immigration-donald-trump-joe-biden-pete-ricketts-iowa-b266591210b738d2e8402e1130305ff1',\n",
              " 'https://apnews.com/article/coronavirus-pandemic-joe-biden-brad-little-idaho-health-5f4a14e07084727a33f0197b7d31fbfb',\n",
              " 'https://apnews.com/article/wisconsin-supreme-court-milwaukee-wisconsin-green-bay-voting-1d7813de77111628fd352e2b66975819',\n",
              " 'https://apnews.com/article/joe-biden-boston-massachusetts-trials-courts-1087c54fa6f5e48d6240b6645fa80a52',\n",
              " 'https://apnews.com/article/joe-biden-donald-trump-barack-obama-wv-state-wire-courts-8022d7d2b87ad83420dc03b4830da6f7',\n",
              " 'https://apnews.com/article/donald-trump-joe-biden-business-environment-laws-b9b11271df132f6b6c9d30e8034580be',\n",
              " 'https://apnews.com/article/joe-biden-business-congress-f6fc8e4ea79642a7e04e28211c00db9a',\n",
              " 'https://apnews.com/article/r-kelly-donald-trump-joe-biden-manhattan-new-york-7d2520ad15fde871b44d0c444bdcf762',\n",
              " 'https://apnews.com/article/donald-trump-business-sexual-abuse-by-clergy-presidential-elections-religion-757ee5fe8469f94a929908705bfb6bcb',\n",
              " 'https://apnews.com/article/business-africa-tunisia-biden-cabinet-cabinets-acc0b7392401bd6a18804ed267ebe6f9',\n",
              " 'https://apnews.com/article/business-charlie-baker-massachusetts-transportation-biden-cabinet-f4666a498cd13018bca1ffa29ed8d93f',\n",
              " 'https://apnews.com/article/coronavirus-pandemic-business-elections-japan-yoshihide-suga-2d4a19512144a41c1f68f7f970ee258e',\n",
              " 'https://apnews.com/article/topeka-kansas-foster-care-child-welfare-biden-cabinet-09dd72e3f8d91a367dadadcb55926028',\n",
              " 'https://apnews.com/article/coronavirus-pandemic-missouri-social-media-shootings-st-louis-b6c55dac898861b90a741aa6c7e9a89b',\n",
              " 'https://apnews.com/hub/media',\n",
              " 'https://apnews.com/article/lifestyle-business-travel-airlines-2a099f47993c0833c8a7104e1e46af0d',\n",
              " 'https://apnews.com/article/san-diego-california-plane-crashes-fires-suburbs-44a0451856e261b5314fb9528d9fa644',\n",
              " 'https://apnews.com/article/nobel-prizes-business-europe-3cbc672f994ae6f4f486a68b52c2bb32',\n",
              " 'https://apnews.com/article/entertainment-business-stevie-nicks-paul-simon-neil-young-ed0d90e4c3b1b091b76915e7e092957c',\n",
              " 'https://apnews.com/article/coronavirus-pandemic-california-pandemics-health-fcbaab792f10b71956ba4ca04073e9d0',\n",
              " 'https://apnews.com/article/merck-asks-fda-to-authorize-covid-pill-e731ada126414396b402c4dfc3cf8d2c',\n",
              " 'https://apnews.com/article/oil-spills-business-california-oceans-c92fbe6bf194e670094a1c006dd9dc8e',\n",
              " 'https://apnews.com/article/2021-boston-marathon-7fbd9463892d9bb54da33f4f340d2eda',\n",
              " 'https://apnews.com/article/matt-amodio-jeopardy-63b3b7f59d5bfee1f0e66a21f4f62db3',\n",
              " 'https://apnews.com/article/donald-trump-fiona-hill-vladimir-putin-russia-europe-f582f211aa82b69092954b7db94bbf4f',\n",
              " 'https://apnews.com/article/customs-dispute-jeopardizes-fish-stick-filet-supply-ca2a2395904ad2f7c6e922dd27b4cbc0',\n",
              " 'https://apnews.com/article/science-business-lifestyle-middle-east-israel-f7288bfe3a6029d152e9d3b1e13ba184',\n",
              " 'https://apnews.com/article/prince-andrew-sexual-assault-allegations-jeffrey-epstein-f0e955fd2345884173ba1321bb105048',\n",
              " 'https://apnews.com/article/baghdad-middle-east-iraq-boycotts-e51c2111acce2055b879f7a26430ba7b',\n",
              " 'https://apnews.com/article/abiy-ahmed-ethiopia-africa-kenya-d5bcb304e0a2c56be6da481273d38651',\n",
              " 'https://apnews.com/article/coronavirus-pandemic-business-moscow-europe-health-c8dd7e1176c3a829a0dccac7e62a806a',\n",
              " 'https://apnews.com/article/coronavirus-pandemic-business-london-covid-19-pandemic-pandemics-3301996f6883417c7e76cc59eefee321',\n",
              " 'https://apnews.com/article/coronavirus-pandemic-technology-business-united-nations-europe-d4aff7ddb273194b312354a57c244ce6',\n",
              " 'https://apnews.com/article/coronavirus-pandemic-lifestyle-business-australia-pandemics-978c58c7002a4edc651d943ae0520500',\n",
              " 'https://apnews.com/article/coronavirus-pandemic-business-new-zealand-health-c95a3f1505d7b4bab0eebca9a7841038',\n",
              " 'https://apnews.com/article/cryptocurrency-coronavirus-pandemic-technology-business-europe-f7f754fc2c68b0eb0d712239323f26c3',\n",
              " 'https://apnews.com/article/rfid-military-weapons-guns-62c88008478f4ac403047c21f3184677',\n",
              " 'https://apnews.com/article/china-oceans-overfishing-squid-294ff1e489589b2510cc806ec898c78f',\n",
              " 'https://apnews.com/article/business-health-pandemics-infectious-diseases-arkansas-d79d2550671cedc5d532fa04d1747248',\n",
              " 'https://apnews.com/article/anti-virus-chiropractors-rising-force-misinformation-02b347767b45cab1d6d532be03c57529',\n",
              " 'https://apnews.com/article/entertainment-business-dave-chappelle-ted-sarandos-arts-and-entertainment-d3b5a4329479757e8675d1caa9ab0554',\n",
              " 'https://apnews.com/article/entertainment-business-new-york-arts-and-entertainment-8fcc019d792dff16bec00fe89ce4f25e',\n",
              " 'https://apnews.com/article/entertainment-jason-isaacs-shootings-arts-and-entertainment-7c5e7f183f1ef5c76f79cda45c5cbeb6',\n",
              " 'https://apnews.com/article/entertainment-business-bob-iger-movies-entertainment-industry-0d18e5ab1eabbb1b5fb917d56370eba5',\n",
              " 'https://apnews.com/article/film-reviews-entertainment-fran-kranz-reed-birney-jason-isaacs-96bb47ebf021c4906d2192a4947b1451',\n",
              " 'https://apnews.com/article/film-reviews-entertainment-lifestyle-arts-and-entertainment-caves-15fc13435e2191728602e9d808d2ca74',\n",
              " 'https://apnews.com/article/film-reviews-entertainment-arts-and-entertainment-tom-hardy-andy-serkis-e94a51f7631859d2d83989c1b1c80864',\n",
              " 'https://apnews.com/article/film-reviews-entertainment-arts-and-entertainment-julia-ducournau-9e874fd567faa295fa9dddaeee005d95',\n",
              " 'https://apnews.com/article/film-reviews-entertainment-arts-and-entertainment-newark-reviews-b6d6d83bb2f450c2ba9591e49082452b',\n",
              " 'https://apnews.com/article/soccer-oddities-sports-michigan-high-school-soccer-77678664cb5f619ed37fdee1c1935630',\n",
              " 'https://apnews.com/article/oddities-chicago-sacramento-california-f61fea6132af6d71840d397805ec57b5',\n",
              " 'https://apnews.com/article/denver-colorado-wildlife-ba4d66564cbfefcfc22070b2d158ac54',\n",
              " 'https://apnews.com/article/oddities-lifestyle-c70210f7624f4cf8c368bed26b1b30a0',\n",
              " 'https://apnews.com/article/mlb-sports-adrian-houser-baseball-dansby-swanson-d984b0832b952be7d88581439394a1ac',\n",
              " 'https://apnews.com/article/mlb-sports-houston-astros-chicago-white-sox-chicago-7d065c9b44938c4cb2b54bc0c1520996',\n",
              " 'https://apnews.com/article/college-football-sports-kirby-smart-herschel-walker-college-sports-9425692150473d0f038ad6c03e13f51c',\n",
              " 'https://apnews.com/article/nfl-sports-business-race-and-ethnicity-las-vegas-raiders-a214abdc3fd624dec17045db93080222',\n",
              " 'https://apnews.com/article/nfl-sports-los-angeles-chargers-carolina-panthers-on-football-9788e6302cd1a54e18eceaffa1d222e7']"
            ]
          },
          "metadata": {},
          "execution_count": 6
        }
      ]
    },
    {
      "cell_type": "code",
      "metadata": {
        "id": "g1C7Xbfen2mh"
      },
      "source": [
        "top_articles = []\n",
        "for index in range(20):\n",
        "    article = site.articles[index]\n",
        "    article.download()\n",
        "    article.parse()\n",
        "    top_articles.append(article.text)"
      ],
      "execution_count": null,
      "outputs": []
    },
    {
      "cell_type": "markdown",
      "metadata": {
        "id": "fSCjPh2Zowpx"
      },
      "source": [
        "# **Configure DataFrame and Apply Sentiment Analysis + NER**"
      ]
    },
    {
      "cell_type": "code",
      "metadata": {
        "id": "2A3rcI7-W-8P"
      },
      "source": [
        "df = pd.DataFrame(np.array(top_articles), columns=['articles'])"
      ],
      "execution_count": null,
      "outputs": []
    },
    {
      "cell_type": "code",
      "metadata": {
        "id": "OWhLqEsAXKz9"
      },
      "source": [
        "def sentiment_score(articles):\n",
        "    tokens = tokenizer.encode(articles, return_tensors='pt')\n",
        "    result = model(tokens)\n",
        "    return int(torch.argmax(result.logits))+1"
      ],
      "execution_count": null,
      "outputs": []
    },
    {
      "cell_type": "code",
      "metadata": {
        "id": "yaDIw7hJXkI3"
      },
      "source": [
        "df['sentiment'] = df['articles'].apply(lambda x: sentiment_score(x[:512]))"
      ],
      "execution_count": null,
      "outputs": []
    },
    {
      "cell_type": "code",
      "metadata": {
        "id": "2ULANsRAWuZJ"
      },
      "source": [
        "df['named entities'] = df['articles'].apply(lambda x: list(nlp(x).ents))"
      ],
      "execution_count": null,
      "outputs": []
    },
    {
      "cell_type": "code",
      "metadata": {
        "id": "AMmdf7d4ZjVQ",
        "colab": {
          "base_uri": "https://localhost:8080/"
        },
        "outputId": "2c99e79a-f4ae-480d-be53-ba021ec13f71"
      },
      "source": [
        "df"
      ],
      "execution_count": null,
      "outputs": [
        {
          "output_type": "execute_result",
          "data": {
            "text/html": [
              "<div>\n",
              "<style scoped>\n",
              "    .dataframe tbody tr th:only-of-type {\n",
              "        vertical-align: middle;\n",
              "    }\n",
              "\n",
              "    .dataframe tbody tr th {\n",
              "        vertical-align: top;\n",
              "    }\n",
              "\n",
              "    .dataframe thead th {\n",
              "        text-align: right;\n",
              "    }\n",
              "</style>\n",
              "<table border=\"1\" class=\"dataframe\">\n",
              "  <thead>\n",
              "    <tr style=\"text-align: right;\">\n",
              "      <th></th>\n",
              "      <th>articles</th>\n",
              "      <th>sentiment</th>\n",
              "      <th>named entities</th>\n",
              "    </tr>\n",
              "  </thead>\n",
              "  <tbody>\n",
              "    <tr>\n",
              "      <th>0</th>\n",
              "      <td>AP Top 25 Poll\\n\\nThe Associated Press began i...</td>\n",
              "      <td>5</td>\n",
              "      <td>[(AP, Top, 25, Poll), (The, Associated, Press)...</td>\n",
              "    </tr>\n",
              "    <tr>\n",
              "      <th>1</th>\n",
              "      <td>FILE - In this June 7, 2017 file photo, the Or...</td>\n",
              "      <td>1</td>\n",
              "      <td>[(FILE), (this, June, 7), (2017), (the, Organi...</td>\n",
              "    </tr>\n",
              "    <tr>\n",
              "      <th>2</th>\n",
              "      <td>President Joe Biden salutes as he steps off of...</td>\n",
              "      <td>5</td>\n",
              "      <td>[(Joe, Biden), (the, South, Lawn), (the, White...</td>\n",
              "    </tr>\n",
              "    <tr>\n",
              "      <th>3</th>\n",
              "      <td>FILE - In this Oct. 8, 2012 file photo, people...</td>\n",
              "      <td>4</td>\n",
              "      <td>[(FILE), (this, Oct., 8, ,), (2012), (Christop...</td>\n",
              "    </tr>\n",
              "    <tr>\n",
              "      <th>4</th>\n",
              "      <td>President Joe Biden boards Marine One at Delaw...</td>\n",
              "      <td>4</td>\n",
              "      <td>[(Joe, Biden), (Marine, One), (Delaware, Air, ...</td>\n",
              "    </tr>\n",
              "    <tr>\n",
              "      <th>5</th>\n",
              "      <td>JACKSON, Miss. (AP) — Thousands recently ralli...</td>\n",
              "      <td>1</td>\n",
              "      <td>[(JACKSON), (Miss.), (AP), (Thousands), (Missi...</td>\n",
              "    </tr>\n",
              "    <tr>\n",
              "      <th>6</th>\n",
              "      <td>FILE - The U.S Capitol at sunset in Washington...</td>\n",
              "      <td>2</td>\n",
              "      <td>[(FILE), (U.S), (Capitol), (Washington), (Sept...</td>\n",
              "    </tr>\n",
              "    <tr>\n",
              "      <th>7</th>\n",
              "      <td>FILE - In this Sept. 16, 2017, file photo, a p...</td>\n",
              "      <td>1</td>\n",
              "      <td>[(FILE), (this, Sept., 16, ,, 2017), (Chicago)...</td>\n",
              "    </tr>\n",
              "    <tr>\n",
              "      <th>8</th>\n",
              "      <td>INDIANAPOLIS (AP) — One of Indiana’s Republica...</td>\n",
              "      <td>5</td>\n",
              "      <td>[(INDIANAPOLIS), (AP), (One), (Indiana), (Repu...</td>\n",
              "    </tr>\n",
              "    <tr>\n",
              "      <th>9</th>\n",
              "      <td>FILE - In this Friday, Oct. 11, 2019, file pho...</td>\n",
              "      <td>1</td>\n",
              "      <td>[(FILE), (this, Friday, ,, Oct., 11, ,, 2019),...</td>\n",
              "    </tr>\n",
              "    <tr>\n",
              "      <th>10</th>\n",
              "      <td>FILE - In this Sept. 19, 2019 file photo, US a...</td>\n",
              "      <td>3</td>\n",
              "      <td>[(FILE), (this, Sept., 19, ,, 2019), (US), (Ge...</td>\n",
              "    </tr>\n",
              "    <tr>\n",
              "      <th>11</th>\n",
              "      <td>FILE - In this Oct. 2, 2007 file photo, Lt. Ge...</td>\n",
              "      <td>4</td>\n",
              "      <td>[(FILE), (this, Oct., 2, ,, 2007), (Raymond, T...</td>\n",
              "    </tr>\n",
              "    <tr>\n",
              "      <th>12</th>\n",
              "      <td>FILE - In this Sept. 20, 2021, file photo, Sen...</td>\n",
              "      <td>3</td>\n",
              "      <td>[(FILE), (this, Sept., 20, ,, 2021), (Roger, M...</td>\n",
              "    </tr>\n",
              "    <tr>\n",
              "      <th>13</th>\n",
              "      <td>In this Oct. 7, 2021, photo, Senate Minority L...</td>\n",
              "      <td>4</td>\n",
              "      <td>[(this, Oct., 7, ,, 2021), (Senate), (Mitch, M...</td>\n",
              "    </tr>\n",
              "    <tr>\n",
              "      <th>14</th>\n",
              "      <td>FILE - In this April 16, 2013, file photo, inv...</td>\n",
              "      <td>1</td>\n",
              "      <td>[(FILE), (this, April, 16, ,, 2013), (second),...</td>\n",
              "    </tr>\n",
              "    <tr>\n",
              "      <th>15</th>\n",
              "      <td>President Joe Biden waits to speak on the Nort...</td>\n",
              "      <td>4</td>\n",
              "      <td>[(Joe, Biden), (the, North, Lawn), (the, White...</td>\n",
              "    </tr>\n",
              "    <tr>\n",
              "      <th>16</th>\n",
              "      <td>FILE - In this June 3, 2021, file photo, Calif...</td>\n",
              "      <td>1</td>\n",
              "      <td>[(FILE), (this, June, 3, ,, 2021), (California...</td>\n",
              "    </tr>\n",
              "    <tr>\n",
              "      <th>17</th>\n",
              "      <td>WASHINGTON (AP) — Senate Minority Leader Mitch...</td>\n",
              "      <td>1</td>\n",
              "      <td>[(WASHINGTON), (AP), (Senate), (Mitch, McConne...</td>\n",
              "    </tr>\n",
              "    <tr>\n",
              "      <th>18</th>\n",
              "      <td>President Joe Biden waits to speak on the Nort...</td>\n",
              "      <td>4</td>\n",
              "      <td>[(Joe, Biden), (the, North, Lawn), (the, White...</td>\n",
              "    </tr>\n",
              "    <tr>\n",
              "      <th>19</th>\n",
              "      <td>President Joe Biden speaks outside the White H...</td>\n",
              "      <td>4</td>\n",
              "      <td>[(Joe, Biden), (the, White, House), (Washingto...</td>\n",
              "    </tr>\n",
              "  </tbody>\n",
              "</table>\n",
              "</div>"
            ],
            "text/plain": [
              "                                             articles  ...                                     named entities\n",
              "0   AP Top 25 Poll\\n\\nThe Associated Press began i...  ...  [(AP, Top, 25, Poll), (The, Associated, Press)...\n",
              "1   FILE - In this June 7, 2017 file photo, the Or...  ...  [(FILE), (this, June, 7), (2017), (the, Organi...\n",
              "2   President Joe Biden salutes as he steps off of...  ...  [(Joe, Biden), (the, South, Lawn), (the, White...\n",
              "3   FILE - In this Oct. 8, 2012 file photo, people...  ...  [(FILE), (this, Oct., 8, ,), (2012), (Christop...\n",
              "4   President Joe Biden boards Marine One at Delaw...  ...  [(Joe, Biden), (Marine, One), (Delaware, Air, ...\n",
              "5   JACKSON, Miss. (AP) — Thousands recently ralli...  ...  [(JACKSON), (Miss.), (AP), (Thousands), (Missi...\n",
              "6   FILE - The U.S Capitol at sunset in Washington...  ...  [(FILE), (U.S), (Capitol), (Washington), (Sept...\n",
              "7   FILE - In this Sept. 16, 2017, file photo, a p...  ...  [(FILE), (this, Sept., 16, ,, 2017), (Chicago)...\n",
              "8   INDIANAPOLIS (AP) — One of Indiana’s Republica...  ...  [(INDIANAPOLIS), (AP), (One), (Indiana), (Repu...\n",
              "9   FILE - In this Friday, Oct. 11, 2019, file pho...  ...  [(FILE), (this, Friday, ,, Oct., 11, ,, 2019),...\n",
              "10  FILE - In this Sept. 19, 2019 file photo, US a...  ...  [(FILE), (this, Sept., 19, ,, 2019), (US), (Ge...\n",
              "11  FILE - In this Oct. 2, 2007 file photo, Lt. Ge...  ...  [(FILE), (this, Oct., 2, ,, 2007), (Raymond, T...\n",
              "12  FILE - In this Sept. 20, 2021, file photo, Sen...  ...  [(FILE), (this, Sept., 20, ,, 2021), (Roger, M...\n",
              "13  In this Oct. 7, 2021, photo, Senate Minority L...  ...  [(this, Oct., 7, ,, 2021), (Senate), (Mitch, M...\n",
              "14  FILE - In this April 16, 2013, file photo, inv...  ...  [(FILE), (this, April, 16, ,, 2013), (second),...\n",
              "15  President Joe Biden waits to speak on the Nort...  ...  [(Joe, Biden), (the, North, Lawn), (the, White...\n",
              "16  FILE - In this June 3, 2021, file photo, Calif...  ...  [(FILE), (this, June, 3, ,, 2021), (California...\n",
              "17  WASHINGTON (AP) — Senate Minority Leader Mitch...  ...  [(WASHINGTON), (AP), (Senate), (Mitch, McConne...\n",
              "18  President Joe Biden waits to speak on the Nort...  ...  [(Joe, Biden), (the, North, Lawn), (the, White...\n",
              "19  President Joe Biden speaks outside the White H...  ...  [(Joe, Biden), (the, White, House), (Washingto...\n",
              "\n",
              "[20 rows x 3 columns]"
            ]
          },
          "metadata": {},
          "execution_count": 12
        }
      ]
    }
  ]
}