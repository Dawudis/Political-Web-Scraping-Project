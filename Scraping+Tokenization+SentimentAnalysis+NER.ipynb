{
  "nbformat": 4,
  "nbformat_minor": 0,
  "metadata": {
    "colab": {
      "name": "Scraping + NER + Tokenization",
      "provenance": [],
      "authorship_tag": "ABX9TyMRII9wC2A5ewp3qZQrJaPL",
      "include_colab_link": true
    },
    "kernelspec": {
      "display_name": "Python 3",
      "name": "python3"
    },
    "language_info": {
      "name": "python"
    }
  },
  "cells": [
    {
      "cell_type": "markdown",
      "metadata": {
        "id": "view-in-github",
        "colab_type": "text"
      },
      "source": [
        "<a href=\"https://colab.research.google.com/github/Dawudis/Political-Web-Scraping-Project/blob/main/Scraping%2BTokenization%2BSentimentAnalysis%2BNER.ipynb\" target=\"_parent\"><img src=\"https://colab.research.google.com/assets/colab-badge.svg\" alt=\"Open In Colab\"/></a>"
      ]
    },
    {
      "cell_type": "markdown",
      "metadata": {
        "id": "dmBCkbqEn8Sw"
      },
      "source": [
        "# **Install/Import Dependencies**"
      ]
    },
    {
      "cell_type": "code",
      "metadata": {
        "id": "RQyhxISOZOFx"
      },
      "source": [
        "!pip install torch==1.8.1+cu111 torchvision==0.9.1+cu111 torchaudio===0.8.1 -f https://download.pytorch.org/whl/torch_stable.html\n",
        "!pip install transformers requests beautifulsoup4 pandas numpy\n",
        "\n",
        "from transformers import AutoTokenizer, AutoModelForSequenceClassification\n",
        "import torch\n",
        "import requests\n",
        "from bs4 import BeautifulSoup\n",
        "import re"
      ],
      "execution_count": null,
      "outputs": []
    },
    {
      "cell_type": "code",
      "metadata": {
        "id": "CDACi-axpGMJ"
      },
      "source": [
        "tokenizer = AutoTokenizer.from_pretrained('nlptown/bert-base-multilingual-uncased-sentiment')\n",
        "model = AutoModelForSequenceClassification.from_pretrained('nlptown/bert-base-multilingual-uncased-sentiment')"
      ],
      "execution_count": 49,
      "outputs": []
    },
    {
      "cell_type": "code",
      "metadata": {
        "id": "v-3k56NFpMu8"
      },
      "source": [
        "!pip install newspaper3k\n",
        "\n",
        "import newspaper\n",
        "from newspaper import Article"
      ],
      "execution_count": null,
      "outputs": []
    },
    {
      "cell_type": "code",
      "metadata": {
        "id": "9xIbeSQtpY4l"
      },
      "source": [
        "!pip install nltk\n",
        "\n",
        "import nltk\n",
        "nltk.download('punkt')\n",
        "from nltk.tokenize import sent_tokenize"
      ],
      "execution_count": null,
      "outputs": []
    },
    {
      "cell_type": "code",
      "metadata": {
        "id": "WVYIkx0TpdGj"
      },
      "source": [
        "!pip install -U spacy\n",
        "!python -m spacy download en\n",
        "\n",
        "import spacy\n",
        "from collections import Counter\n",
        "import en_core_web_sm\n",
        "nlp = en_core_web_sm.load()"
      ],
      "execution_count": null,
      "outputs": []
    },
    {
      "cell_type": "code",
      "metadata": {
        "id": "Yo-EbWCjpfPE"
      },
      "source": [
        "import numpy as np\n",
        "import pandas as pd"
      ],
      "execution_count": 53,
      "outputs": []
    },
    {
      "cell_type": "markdown",
      "metadata": {
        "id": "BZASVvfMoUaG"
      },
      "source": [
        "# **Scrape Article**"
      ]
    },
    {
      "cell_type": "code",
      "metadata": {
        "id": "ZDAdhnXhWf78"
      },
      "source": [
        "url = \"https://apnews.com/article/biden-congress-government-overhaul-public-works-9438a78ba7c7865d75428e746d1de04d\""
      ],
      "execution_count": 54,
      "outputs": []
    },
    {
      "cell_type": "code",
      "metadata": {
        "colab": {
          "base_uri": "https://localhost:8080/"
        },
        "id": "g1C7Xbfen2mh",
        "outputId": "f3e5b109-f417-42ee-f9a9-88d6d3dfd877"
      },
      "source": [
        "article = Article(url)\n",
        "article.download()\n",
        "article.parse()\n",
        "print(article.text)"
      ],
      "execution_count": 64,
      "outputs": [
        {
          "output_type": "stream",
          "name": "stdout",
          "text": [
            "President Joe Biden walks over to speak with members of the press before boarding Marine One on the South Lawn of the White House, Saturday, Oct. 2, 2021, in Washington. Biden is spending the weekend at his home in Delaware. (AP Photo/Patrick Semansky)\n",
            "\n",
            "President Joe Biden walks over to speak with members of the press before boarding Marine One on the South Lawn of the White House, Saturday, Oct. 2, 2021, in Washington. Biden is spending the weekend at his home in Delaware. (AP Photo/Patrick Semansky)\n",
            "\n",
            "WASHINGTON (AP) — President Joe Biden on Saturday acknowledged frustrations as Democrats strain to rescue a scaled-back version of his $3.5 trillion government-overhaul plan and salvage a related public works bill after frantic negotiations failed to produce a deal.\n",
            "\n",
            "“Everybody’s frustrated, it’s part of being in government, being frustrated,” Biden told reporters before leaving the White House for a weekend stay at his home in Wilmington, Delaware. He pledged to ”work like hell” to get the two pillars of his domestic agenda passed into law, but refrained from laying out a new deadline.\n",
            "\n",
            "The president had gone to Capitol Hill on Friday for a private meeting with House Democrats that was partly a morale booster for the disjointed caucus of lawmakers. According to lawmakers in the room, he discussed a $1.9 trillion to $2 trillion-plus price tag for the larger package that would expand the country’s social safety net.\n",
            "\n",
            "ADVERTISEMENT\n",
            "\n",
            "The White House and its allies in Congress are prepared for protracted negotiations. Biden said he would soon travel around the country to promote the legislation and he acknowledged concerns that the talk in Washington had become too focused on the trillions in new spending and taxes in the bill.\n",
            "\n",
            "He pledged to do more to educate the public about the plan’s new and expanded programs, which he contended have the support of the vast majority of the electorate.\n",
            "\n",
            "“I’m going to try to sell what I think the American people will buy,” Biden said Saturday, adding, “I believe that when the American people are aware of what’s in it we’ll get it done.”\n",
            "\n",
            "The president said he believed the legislation will be signed into law with “plenty of time to change the tax code for people next year.”\n",
            "\n",
            "It’s a pivotal time for Biden and the party. His approval ratings have dropped and Democrats are restless, eager to deliver on his signature campaign promise of rebuilding the country. His ideas go beyond roads-and-bridges infrastructure to delivering dental, vision and hearing care for seniors, free prekindergarten, major efforts to tackle climate change and other investments that would touch countless American lives.\n",
            "\n",
            "Holdout Democratic Sen. Joe Manchin of West Virginia had dashed hopes for a swift compromise on a framework when he refused to budge late Thursday on his demands for a smaller overall package, about $1.5 trillion.\n",
            "\n",
            "ADVERTISEMENT\n",
            "\n",
            "Without a broader deal, prospects for a vote on the companion public works bill stalled out as progressives refused to commit until senators reached agreement. House Speaker Nancy Pelosi, D-Calif., told colleagues that “more time is needed” as they shape the broader package.\n",
            "\n",
            "The House on Friday night passed a 30-day measure to keep transportation programs running during the stalemate, essentially setting a new deadline for talks, Oct. 31. The Senate approved it without debate during a brief Saturday session, to halt the furloughs of more than 3,500 federal transportation workers, a byproduct of the political impasse. Biden signed it by evening.\n",
            "\n",
            "Pelosi, keeping her promise to centrists, had insisted earlier Friday that there would be a “vote today” on the $1 trillion infrastructure bill that is popular but is snared in the debate over Biden’s broader measure. But with Democratic progressives refusing to give their support for that slimmer roads-and-bridges bill unless advances were made on the president’s big bill, Pelosi was unwilling to call for a vote.\n",
            "\n",
            "“Out of respect for our colleagues who support the bills and out of recognition for the need for both,” Pelosi said in a letter Saturday to House Democrats that she would not bring the smaller measure “to the floor to fail.”\n",
            "\n",
            "Sen. Kyrsten Sinema of Arizona, a key centrist Democrat who helped steer the public works bill to Senate passage but has concerns that Biden’s overall bill is too big, was dismayed by the delay on the bipartisan package negotiated with the president.\n",
            "\n",
            "In a statement Saturday, she said the canceled vote was “inexcusable, and deeply disappointing” and “erodes” the trust needed for “good-faith negotiations.”\n",
            "\n",
            "With Republicans solidly opposed to Biden’s sweeping vision, the president and Democrats are reaching for a giant legislative accomplishment on their own — all to be paid for by rewriting federal balance sheets with tax increases on corporations and the wealthy, those earning more than $400,000 a year.\n",
            "\n",
            "The larger of Biden’s proposals is a years-in-the-making collection of Democratic priorities with an ultimate price tag he says is zero , because the tax revenue would cover the spending costs.\n",
            "\n",
            "“We will and must pass both bills soon,” Pelosi said in her letter. “We have the responsibility and the opportunity to do so. People are waiting and want results.”\n",
            "\n",
            "The White House and Democrats also are focusing on raising the nation’s borrowing limit before the United States risks defaulting on its obligations — a deadline the Treasury Department estimates will be reached no later than Oct. 18. The House has already acted, but Republicans senators have indicated they will not provide votes for bipartisan passage and want Democrats to go it alone.\n",
            "\n",
            "“I hope that the Republicans won’t be so irresponsible as to refuse to raise the debt limit and to filibuster the debt limit,” Biden said Saturday. “That would be totally unconscionable. Never been done before. And so I hope that won’t happen.”\n"
          ]
        }
      ]
    },
    {
      "cell_type": "markdown",
      "metadata": {
        "id": "vSZLDgkLohCM"
      },
      "source": [
        "# **Tokenize Article into Sentences**"
      ]
    },
    {
      "cell_type": "code",
      "metadata": {
        "id": "_2dvEWt5Xfvr"
      },
      "source": [
        "sentences = sent_tokenize(article.text)"
      ],
      "execution_count": 56,
      "outputs": []
    },
    {
      "cell_type": "markdown",
      "metadata": {
        "id": "fSCjPh2Zowpx"
      },
      "source": [
        "# **Configure DataFrame and Apply Sentiment Analysis + NER**"
      ]
    },
    {
      "cell_type": "code",
      "metadata": {
        "id": "2A3rcI7-W-8P"
      },
      "source": [
        "df = pd.DataFrame(np.array(sentences), columns=['article sentences'])"
      ],
      "execution_count": 57,
      "outputs": []
    },
    {
      "cell_type": "code",
      "metadata": {
        "id": "OWhLqEsAXKz9"
      },
      "source": [
        "def sentiment_score(sentences):\n",
        "    tokens = tokenizer.encode(sentences, return_tensors='pt')\n",
        "    result = model(tokens)\n",
        "    return int(torch.argmax(result.logits))+1"
      ],
      "execution_count": 58,
      "outputs": []
    },
    {
      "cell_type": "code",
      "metadata": {
        "id": "yaDIw7hJXkI3"
      },
      "source": [
        "df['sentiment'] = df['article sentences'].apply(lambda x: sentiment_score(x[:512]))"
      ],
      "execution_count": 59,
      "outputs": []
    },
    {
      "cell_type": "code",
      "metadata": {
        "id": "2ULANsRAWuZJ"
      },
      "source": [
        "df['named entities'] = df['article sentences'].apply(lambda x: list(nlp(x).ents))"
      ],
      "execution_count": 61,
      "outputs": []
    },
    {
      "cell_type": "code",
      "metadata": {
        "colab": {
          "base_uri": "https://localhost:8080/",
          "height": 1000
        },
        "id": "AMmdf7d4ZjVQ",
        "outputId": "32c9e0ad-30f6-4b5f-a76d-d010edb0ea6c"
      },
      "source": [
        "df"
      ],
      "execution_count": 63,
      "outputs": [
        {
          "output_type": "execute_result",
          "data": {
            "text/html": [
              "<div>\n",
              "<style scoped>\n",
              "    .dataframe tbody tr th:only-of-type {\n",
              "        vertical-align: middle;\n",
              "    }\n",
              "\n",
              "    .dataframe tbody tr th {\n",
              "        vertical-align: top;\n",
              "    }\n",
              "\n",
              "    .dataframe thead th {\n",
              "        text-align: right;\n",
              "    }\n",
              "</style>\n",
              "<table border=\"1\" class=\"dataframe\">\n",
              "  <thead>\n",
              "    <tr style=\"text-align: right;\">\n",
              "      <th></th>\n",
              "      <th>article sentences</th>\n",
              "      <th>sentiment</th>\n",
              "      <th>named entities</th>\n",
              "    </tr>\n",
              "  </thead>\n",
              "  <tbody>\n",
              "    <tr>\n",
              "      <th>0</th>\n",
              "      <td>President Joe Biden walks over to speak with m...</td>\n",
              "      <td>1</td>\n",
              "      <td>[(Joe, Biden), (the, South, Lawn), (the, White...</td>\n",
              "    </tr>\n",
              "    <tr>\n",
              "      <th>1</th>\n",
              "      <td>Biden is spending the weekend at his home in D...</td>\n",
              "      <td>4</td>\n",
              "      <td>[(Biden), (the, weekend), (Delaware)]</td>\n",
              "    </tr>\n",
              "    <tr>\n",
              "      <th>2</th>\n",
              "      <td>(AP Photo/Patrick Semansky)\\n\\nPresident Joe B...</td>\n",
              "      <td>3</td>\n",
              "      <td>[(AP, Photo, /, Patrick, Semansky), (Joe, Bide...</td>\n",
              "    </tr>\n",
              "    <tr>\n",
              "      <th>3</th>\n",
              "      <td>Biden is spending the weekend at his home in D...</td>\n",
              "      <td>4</td>\n",
              "      <td>[(Biden), (the, weekend), (Delaware)]</td>\n",
              "    </tr>\n",
              "    <tr>\n",
              "      <th>4</th>\n",
              "      <td>(AP Photo/Patrick Semansky)\\n\\nWASHINGTON (AP)...</td>\n",
              "      <td>1</td>\n",
              "      <td>[(AP, Photo, /, Patrick, Semansky), (WASHINGTO...</td>\n",
              "    </tr>\n",
              "    <tr>\n",
              "      <th>5</th>\n",
              "      <td>“Everybody’s frustrated, it’s part of being in...</td>\n",
              "      <td>1</td>\n",
              "      <td>[(Biden), (the, White, House), (a, weekend), (...</td>\n",
              "    </tr>\n",
              "    <tr>\n",
              "      <th>6</th>\n",
              "      <td>He pledged to ”work like hell” to get the two ...</td>\n",
              "      <td>1</td>\n",
              "      <td>[(two)]</td>\n",
              "    </tr>\n",
              "    <tr>\n",
              "      <th>7</th>\n",
              "      <td>The president had gone to Capitol Hill on Frid...</td>\n",
              "      <td>2</td>\n",
              "      <td>[(Capitol, Hill), (Friday), (House), (Democrats)]</td>\n",
              "    </tr>\n",
              "    <tr>\n",
              "      <th>8</th>\n",
              "      <td>According to lawmakers in the room, he discuss...</td>\n",
              "      <td>1</td>\n",
              "      <td>[($, 1.9, trillion)]</td>\n",
              "    </tr>\n",
              "    <tr>\n",
              "      <th>9</th>\n",
              "      <td>ADVERTISEMENT\\n\\nThe White House and its allie...</td>\n",
              "      <td>4</td>\n",
              "      <td>[(The, White, House), (Congress)]</td>\n",
              "    </tr>\n",
              "    <tr>\n",
              "      <th>10</th>\n",
              "      <td>Biden said he would soon travel around the cou...</td>\n",
              "      <td>3</td>\n",
              "      <td>[(Biden), (Washington), (trillions)]</td>\n",
              "    </tr>\n",
              "    <tr>\n",
              "      <th>11</th>\n",
              "      <td>He pledged to do more to educate the public ab...</td>\n",
              "      <td>3</td>\n",
              "      <td>[]</td>\n",
              "    </tr>\n",
              "    <tr>\n",
              "      <th>12</th>\n",
              "      <td>“I’m going to try to sell what I think the Ame...</td>\n",
              "      <td>5</td>\n",
              "      <td>[(American), (Biden), (Saturday), (American), ...</td>\n",
              "    </tr>\n",
              "    <tr>\n",
              "      <th>13</th>\n",
              "      <td>His approval ratings have dropped and Democrat...</td>\n",
              "      <td>2</td>\n",
              "      <td>[(Democrats)]</td>\n",
              "    </tr>\n",
              "    <tr>\n",
              "      <th>14</th>\n",
              "      <td>His ideas go beyond roads-and-bridges infrastr...</td>\n",
              "      <td>5</td>\n",
              "      <td>[(American)]</td>\n",
              "    </tr>\n",
              "    <tr>\n",
              "      <th>15</th>\n",
              "      <td>Holdout Democratic Sen. Joe Manchin of West Vi...</td>\n",
              "      <td>1</td>\n",
              "      <td>[(Democratic), (Joe, Manchin), (West, Virginia...</td>\n",
              "    </tr>\n",
              "    <tr>\n",
              "      <th>16</th>\n",
              "      <td>ADVERTISEMENT\\n\\nWithout a broader deal, prosp...</td>\n",
              "      <td>2</td>\n",
              "      <td>[]</td>\n",
              "    </tr>\n",
              "    <tr>\n",
              "      <th>17</th>\n",
              "      <td>House Speaker Nancy Pelosi, D-Calif., told col...</td>\n",
              "      <td>4</td>\n",
              "      <td>[(House), (Nancy, Pelosi), (Calif.)]</td>\n",
              "    </tr>\n",
              "    <tr>\n",
              "      <th>18</th>\n",
              "      <td>The House on Friday night passed a 30-day meas...</td>\n",
              "      <td>4</td>\n",
              "      <td>[(House), (Friday), (30, -, day), (Oct., 31)]</td>\n",
              "    </tr>\n",
              "    <tr>\n",
              "      <th>19</th>\n",
              "      <td>The Senate approved it without debate during a...</td>\n",
              "      <td>4</td>\n",
              "      <td>[(Senate), (Saturday), (more, than, 3,500)]</td>\n",
              "    </tr>\n",
              "    <tr>\n",
              "      <th>20</th>\n",
              "      <td>Biden signed it by evening.</td>\n",
              "      <td>3</td>\n",
              "      <td>[(Biden), (evening)]</td>\n",
              "    </tr>\n",
              "    <tr>\n",
              "      <th>21</th>\n",
              "      <td>Pelosi, keeping her promise to centrists, had ...</td>\n",
              "      <td>2</td>\n",
              "      <td>[(earlier, Friday), (today), ($, 1, trillion),...</td>\n",
              "    </tr>\n",
              "    <tr>\n",
              "      <th>22</th>\n",
              "      <td>But with Democratic progressives refusing to g...</td>\n",
              "      <td>2</td>\n",
              "      <td>[(Democratic)]</td>\n",
              "    </tr>\n",
              "    <tr>\n",
              "      <th>23</th>\n",
              "      <td>“Out of respect for our colleagues who support...</td>\n",
              "      <td>2</td>\n",
              "      <td>[(Saturday), (House), (Democrats), (Kyrsten, S...</td>\n",
              "    </tr>\n",
              "    <tr>\n",
              "      <th>24</th>\n",
              "      <td>In a statement Saturday, she said the canceled...</td>\n",
              "      <td>1</td>\n",
              "      <td>[(Saturday), (Republicans), (Biden), (Democrat...</td>\n",
              "    </tr>\n",
              "    <tr>\n",
              "      <th>25</th>\n",
              "      <td>The larger of Biden’s proposals is a years-in-...</td>\n",
              "      <td>2</td>\n",
              "      <td>[(Biden), (years), (Democratic), (zero)]</td>\n",
              "    </tr>\n",
              "    <tr>\n",
              "      <th>26</th>\n",
              "      <td>“We will and must pass both bills soon,” Pelos...</td>\n",
              "      <td>5</td>\n",
              "      <td>[]</td>\n",
              "    </tr>\n",
              "    <tr>\n",
              "      <th>27</th>\n",
              "      <td>“We have the responsibility and the opportunit...</td>\n",
              "      <td>5</td>\n",
              "      <td>[]</td>\n",
              "    </tr>\n",
              "    <tr>\n",
              "      <th>28</th>\n",
              "      <td>People are waiting and want results.”\\n\\nThe W...</td>\n",
              "      <td>4</td>\n",
              "      <td>[(The, White, House), (Democrats), (the, Unite...</td>\n",
              "    </tr>\n",
              "    <tr>\n",
              "      <th>29</th>\n",
              "      <td>The House has already acted, but Republicans s...</td>\n",
              "      <td>1</td>\n",
              "      <td>[(House), (Republicans), (Democrats)]</td>\n",
              "    </tr>\n",
              "    <tr>\n",
              "      <th>30</th>\n",
              "      <td>“I hope that the Republicans won’t be so irres...</td>\n",
              "      <td>1</td>\n",
              "      <td>[(Republicans), (Biden), (Saturday)]</td>\n",
              "    </tr>\n",
              "    <tr>\n",
              "      <th>31</th>\n",
              "      <td>“That would be totally unconscionable.</td>\n",
              "      <td>1</td>\n",
              "      <td>[]</td>\n",
              "    </tr>\n",
              "    <tr>\n",
              "      <th>32</th>\n",
              "      <td>Never been done before.</td>\n",
              "      <td>5</td>\n",
              "      <td>[]</td>\n",
              "    </tr>\n",
              "    <tr>\n",
              "      <th>33</th>\n",
              "      <td>And so I hope that won’t happen.”</td>\n",
              "      <td>3</td>\n",
              "      <td>[]</td>\n",
              "    </tr>\n",
              "  </tbody>\n",
              "</table>\n",
              "</div>"
            ],
            "text/plain": [
              "                                    article sentences  ...                                     named entities\n",
              "0   President Joe Biden walks over to speak with m...  ...  [(Joe, Biden), (the, South, Lawn), (the, White...\n",
              "1   Biden is spending the weekend at his home in D...  ...              [(Biden), (the, weekend), (Delaware)]\n",
              "2   (AP Photo/Patrick Semansky)\\n\\nPresident Joe B...  ...  [(AP, Photo, /, Patrick, Semansky), (Joe, Bide...\n",
              "3   Biden is spending the weekend at his home in D...  ...              [(Biden), (the, weekend), (Delaware)]\n",
              "4   (AP Photo/Patrick Semansky)\\n\\nWASHINGTON (AP)...  ...  [(AP, Photo, /, Patrick, Semansky), (WASHINGTO...\n",
              "5   “Everybody’s frustrated, it’s part of being in...  ...  [(Biden), (the, White, House), (a, weekend), (...\n",
              "6   He pledged to ”work like hell” to get the two ...  ...                                            [(two)]\n",
              "7   The president had gone to Capitol Hill on Frid...  ...  [(Capitol, Hill), (Friday), (House), (Democrats)]\n",
              "8   According to lawmakers in the room, he discuss...  ...                               [($, 1.9, trillion)]\n",
              "9   ADVERTISEMENT\\n\\nThe White House and its allie...  ...                  [(The, White, House), (Congress)]\n",
              "10  Biden said he would soon travel around the cou...  ...               [(Biden), (Washington), (trillions)]\n",
              "11  He pledged to do more to educate the public ab...  ...                                                 []\n",
              "12  “I’m going to try to sell what I think the Ame...  ...  [(American), (Biden), (Saturday), (American), ...\n",
              "13  His approval ratings have dropped and Democrat...  ...                                      [(Democrats)]\n",
              "14  His ideas go beyond roads-and-bridges infrastr...  ...                                       [(American)]\n",
              "15  Holdout Democratic Sen. Joe Manchin of West Vi...  ...  [(Democratic), (Joe, Manchin), (West, Virginia...\n",
              "16  ADVERTISEMENT\\n\\nWithout a broader deal, prosp...  ...                                                 []\n",
              "17  House Speaker Nancy Pelosi, D-Calif., told col...  ...               [(House), (Nancy, Pelosi), (Calif.)]\n",
              "18  The House on Friday night passed a 30-day meas...  ...      [(House), (Friday), (30, -, day), (Oct., 31)]\n",
              "19  The Senate approved it without debate during a...  ...        [(Senate), (Saturday), (more, than, 3,500)]\n",
              "20                        Biden signed it by evening.  ...                               [(Biden), (evening)]\n",
              "21  Pelosi, keeping her promise to centrists, had ...  ...  [(earlier, Friday), (today), ($, 1, trillion),...\n",
              "22  But with Democratic progressives refusing to g...  ...                                     [(Democratic)]\n",
              "23  “Out of respect for our colleagues who support...  ...  [(Saturday), (House), (Democrats), (Kyrsten, S...\n",
              "24  In a statement Saturday, she said the canceled...  ...  [(Saturday), (Republicans), (Biden), (Democrat...\n",
              "25  The larger of Biden’s proposals is a years-in-...  ...           [(Biden), (years), (Democratic), (zero)]\n",
              "26  “We will and must pass both bills soon,” Pelos...  ...                                                 []\n",
              "27  “We have the responsibility and the opportunit...  ...                                                 []\n",
              "28  People are waiting and want results.”\\n\\nThe W...  ...  [(The, White, House), (Democrats), (the, Unite...\n",
              "29  The House has already acted, but Republicans s...  ...              [(House), (Republicans), (Democrats)]\n",
              "30  “I hope that the Republicans won’t be so irres...  ...               [(Republicans), (Biden), (Saturday)]\n",
              "31             “That would be totally unconscionable.  ...                                                 []\n",
              "32                            Never been done before.  ...                                                 []\n",
              "33                  And so I hope that won’t happen.”  ...                                                 []\n",
              "\n",
              "[34 rows x 3 columns]"
            ]
          },
          "metadata": {},
          "execution_count": 63
        }
      ]
    }
  ]
}