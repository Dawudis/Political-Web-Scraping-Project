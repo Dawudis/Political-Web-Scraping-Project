{
  "nbformat": 4,
  "nbformat_minor": 0,
  "metadata": {
    "colab": {
      "name": "Scraping + NER + Tokenization",
      "provenance": [],
      "authorship_tag": "ABX9TyMPBYSZMw57QWPs/KqPQnMM",
      "include_colab_link": true
    },
    "kernelspec": {
      "display_name": "Python 3",
      "name": "python3"
    },
    "language_info": {
      "name": "python"
    }
  },
  "cells": [
    {
      "cell_type": "markdown",
      "metadata": {
        "id": "view-in-github",
        "colab_type": "text"
      },
      "source": [
        "<a href=\"https://colab.research.google.com/github/Dawudis/Political-Web-Scraping-Project/blob/main/Scraping_%2B_NER_%2B_Tokenization.ipynb\" target=\"_parent\"><img src=\"https://colab.research.google.com/assets/colab-badge.svg\" alt=\"Open In Colab\"/></a>"
      ]
    },
    {
      "cell_type": "code",
      "metadata": {
        "id": "RQyhxISOZOFx"
      },
      "source": [
        "!pip install torch==1.8.1+cu111 torchvision==0.9.1+cu111 torchaudio===0.8.1 -f https://download.pytorch.org/whl/torch_stable.html\n",
        "!pip install transformers requests beautifulsoup4 pandas numpy\n",
        "\n",
        "from transformers import AutoTokenizer, AutoModelForSequenceClassification\n",
        "import torch\n",
        "import requests\n",
        "from bs4 import BeautifulSoup\n",
        "import re\n",
        "\n",
        "tokenizer = AutoTokenizer.from_pretrained('nlptown/bert-base-multilingual-uncased-sentiment')\n",
        "\n",
        "model = AutoModelForSequenceClassification.from_pretrained('nlptown/bert-base-multilingual-uncased-sentiment')"
      ],
      "execution_count": null,
      "outputs": []
    },
    {
      "cell_type": "code",
      "metadata": {
        "id": "pVO5HB87Cp27"
      },
      "source": [
        "!pip install newspaper3k  "
      ],
      "execution_count": null,
      "outputs": []
    },
    {
      "cell_type": "code",
      "metadata": {
        "id": "tyn1VwCKBaZA"
      },
      "source": [
        "import newspaper\n",
        "from newspaper import Article"
      ],
      "execution_count": null,
      "outputs": []
    },
    {
      "cell_type": "code",
      "metadata": {
        "id": "ZDAdhnXhWf78"
      },
      "source": [
        "url = \"https://apnews.com/article/biden-congress-government-overhaul-public-works-9438a78ba7c7865d75428e746d1de04d\"\n",
        " \n",
        "# download and parse article\n",
        "article = Article(url)\n",
        "article.download()\n",
        "article.parse()\n",
        " \n",
        "# print article text\n",
        "print(article.text)"
      ],
      "execution_count": null,
      "outputs": []
    },
    {
      "cell_type": "code",
      "metadata": {
        "colab": {
          "base_uri": "https://localhost:8080/"
        },
        "id": "rCcFMCoBXnQB",
        "outputId": "25054d1e-4945-4246-95e7-18f593af8aef"
      },
      "source": [
        "!pip install nltk\n",
        "import nltk\n",
        "nltk.download('punkt')\n",
        "from nltk.tokenize import sent_tokenize"
      ],
      "execution_count": null,
      "outputs": [
        {
          "output_type": "stream",
          "name": "stdout",
          "text": [
            "Requirement already satisfied: nltk in /usr/local/lib/python3.7/dist-packages (3.2.5)\n",
            "Requirement already satisfied: six in /usr/local/lib/python3.7/dist-packages (from nltk) (1.15.0)\n",
            "[nltk_data] Downloading package punkt to /root/nltk_data...\n",
            "[nltk_data]   Package punkt is already up-to-date!\n"
          ]
        }
      ]
    },
    {
      "cell_type": "code",
      "metadata": {
        "id": "_2dvEWt5Xfvr"
      },
      "source": [
        "tokens1=sent_tokenize(article.text)"
      ],
      "execution_count": null,
      "outputs": []
    },
    {
      "cell_type": "code",
      "metadata": {
        "id": "Mr-UVIn2Wd-U"
      },
      "source": [
        "!pip install -U spacy\n",
        "!python -m spacy download en"
      ],
      "execution_count": null,
      "outputs": []
    },
    {
      "cell_type": "code",
      "metadata": {
        "id": "Ihn65_btWmyo"
      },
      "source": [
        "import spacy\n",
        "from collections import Counter\n",
        "import en_core_web_sm\n",
        "nlp = en_core_web_sm.load()"
      ],
      "execution_count": null,
      "outputs": []
    },
    {
      "cell_type": "code",
      "metadata": {
        "id": "tCcZRWEcW9rj"
      },
      "source": [
        "import numpy as np\n",
        "import pandas as pd"
      ],
      "execution_count": null,
      "outputs": []
    },
    {
      "cell_type": "code",
      "metadata": {
        "id": "2A3rcI7-W-8P"
      },
      "source": [
        "df = pd.DataFrame(np.array(tokens1), columns=['article sentences'])"
      ],
      "execution_count": null,
      "outputs": []
    },
    {
      "cell_type": "code",
      "metadata": {
        "id": "OWhLqEsAXKz9"
      },
      "source": [
        "def sentiment_score(tokens1):\n",
        "    tokens = tokenizer.encode(tokens1, return_tensors='pt')\n",
        "    result = model(tokens)\n",
        "    return int(torch.argmax(result.logits))+1"
      ],
      "execution_count": null,
      "outputs": []
    },
    {
      "cell_type": "code",
      "metadata": {
        "id": "yaDIw7hJXkI3"
      },
      "source": [
        "df['sentiment'] = df['article sentences'].apply(lambda x: sentiment_score(x[:512]))"
      ],
      "execution_count": null,
      "outputs": []
    },
    {
      "cell_type": "code",
      "metadata": {
        "id": "2ULANsRAWuZJ"
      },
      "source": [
        "df['named entities'] = df['article sentences'].apply(lambda x: list(nlp(x).ents))"
      ],
      "execution_count": null,
      "outputs": []
    },
    {
      "cell_type": "code",
      "metadata": {
        "colab": {
          "base_uri": "https://localhost:8080/",
          "height": 1000
        },
        "id": "AMmdf7d4ZjVQ",
        "outputId": "aea66215-6025-4f56-a0c6-340c94e94c39"
      },
      "source": [
        "df"
      ],
      "execution_count": null,
      "outputs": [
        {
          "output_type": "execute_result",
          "data": {
            "text/html": [
              "<div>\n",
              "<style scoped>\n",
              "    .dataframe tbody tr th:only-of-type {\n",
              "        vertical-align: middle;\n",
              "    }\n",
              "\n",
              "    .dataframe tbody tr th {\n",
              "        vertical-align: top;\n",
              "    }\n",
              "\n",
              "    .dataframe thead th {\n",
              "        text-align: right;\n",
              "    }\n",
              "</style>\n",
              "<table border=\"1\" class=\"dataframe\">\n",
              "  <thead>\n",
              "    <tr style=\"text-align: right;\">\n",
              "      <th></th>\n",
              "      <th>article sentences</th>\n",
              "      <th>sentiment</th>\n",
              "      <th>named entities</th>\n",
              "    </tr>\n",
              "  </thead>\n",
              "  <tbody>\n",
              "    <tr>\n",
              "      <th>0</th>\n",
              "      <td>President Joe Biden walks over to speak with m...</td>\n",
              "      <td>1</td>\n",
              "      <td>[(Joe, Biden), (the, South, Lawn), (the, White...</td>\n",
              "    </tr>\n",
              "    <tr>\n",
              "      <th>1</th>\n",
              "      <td>Biden is spending the weekend at his home in D...</td>\n",
              "      <td>4</td>\n",
              "      <td>[(Biden), (the, weekend), (Delaware)]</td>\n",
              "    </tr>\n",
              "    <tr>\n",
              "      <th>2</th>\n",
              "      <td>(AP Photo/Patrick Semansky)\\n\\nPresident Joe B...</td>\n",
              "      <td>3</td>\n",
              "      <td>[(AP, Photo, /, Patrick, Semansky), (Joe, Bide...</td>\n",
              "    </tr>\n",
              "    <tr>\n",
              "      <th>3</th>\n",
              "      <td>Biden is spending the weekend at his home in D...</td>\n",
              "      <td>4</td>\n",
              "      <td>[(Biden), (the, weekend), (Delaware)]</td>\n",
              "    </tr>\n",
              "    <tr>\n",
              "      <th>4</th>\n",
              "      <td>(AP Photo/Patrick Semansky)\\n\\nWASHINGTON (AP)...</td>\n",
              "      <td>1</td>\n",
              "      <td>[(AP, Photo, /, Patrick, Semansky), (WASHINGTO...</td>\n",
              "    </tr>\n",
              "    <tr>\n",
              "      <th>5</th>\n",
              "      <td>“Everybody’s frustrated, it’s part of being in...</td>\n",
              "      <td>1</td>\n",
              "      <td>[(Biden), (the, White, House), (a, weekend), (...</td>\n",
              "    </tr>\n",
              "    <tr>\n",
              "      <th>6</th>\n",
              "      <td>He pledged to ”work like hell” to get the two ...</td>\n",
              "      <td>1</td>\n",
              "      <td>[(two)]</td>\n",
              "    </tr>\n",
              "    <tr>\n",
              "      <th>7</th>\n",
              "      <td>The president had gone to Capitol Hill on Frid...</td>\n",
              "      <td>2</td>\n",
              "      <td>[(Capitol, Hill), (Friday), (House), (Democrats)]</td>\n",
              "    </tr>\n",
              "    <tr>\n",
              "      <th>8</th>\n",
              "      <td>According to lawmakers in the room, he discuss...</td>\n",
              "      <td>1</td>\n",
              "      <td>[($, 1.9, trillion)]</td>\n",
              "    </tr>\n",
              "    <tr>\n",
              "      <th>9</th>\n",
              "      <td>ADVERTISEMENT\\n\\nThe White House and its allie...</td>\n",
              "      <td>4</td>\n",
              "      <td>[(The, White, House), (Congress)]</td>\n",
              "    </tr>\n",
              "    <tr>\n",
              "      <th>10</th>\n",
              "      <td>Biden said he would soon travel around the cou...</td>\n",
              "      <td>3</td>\n",
              "      <td>[(Biden), (Washington), (trillions)]</td>\n",
              "    </tr>\n",
              "    <tr>\n",
              "      <th>11</th>\n",
              "      <td>He pledged to do more to educate the public ab...</td>\n",
              "      <td>3</td>\n",
              "      <td>[]</td>\n",
              "    </tr>\n",
              "    <tr>\n",
              "      <th>12</th>\n",
              "      <td>“I’m going to try to sell what I think the Ame...</td>\n",
              "      <td>5</td>\n",
              "      <td>[(American), (Biden), (Saturday), (American), ...</td>\n",
              "    </tr>\n",
              "    <tr>\n",
              "      <th>13</th>\n",
              "      <td>His approval ratings have dropped and Democrat...</td>\n",
              "      <td>2</td>\n",
              "      <td>[(Democrats)]</td>\n",
              "    </tr>\n",
              "    <tr>\n",
              "      <th>14</th>\n",
              "      <td>His ideas go beyond roads-and-bridges infrastr...</td>\n",
              "      <td>5</td>\n",
              "      <td>[(American)]</td>\n",
              "    </tr>\n",
              "    <tr>\n",
              "      <th>15</th>\n",
              "      <td>Holdout Democratic Sen. Joe Manchin of West Vi...</td>\n",
              "      <td>1</td>\n",
              "      <td>[(Democratic), (Joe, Manchin), (West, Virginia...</td>\n",
              "    </tr>\n",
              "    <tr>\n",
              "      <th>16</th>\n",
              "      <td>ADVERTISEMENT\\n\\nWithout a broader deal, prosp...</td>\n",
              "      <td>2</td>\n",
              "      <td>[]</td>\n",
              "    </tr>\n",
              "    <tr>\n",
              "      <th>17</th>\n",
              "      <td>House Speaker Nancy Pelosi, D-Calif., told col...</td>\n",
              "      <td>4</td>\n",
              "      <td>[(House), (Nancy, Pelosi), (Calif.)]</td>\n",
              "    </tr>\n",
              "    <tr>\n",
              "      <th>18</th>\n",
              "      <td>The House on Friday night passed a 30-day meas...</td>\n",
              "      <td>4</td>\n",
              "      <td>[(House), (Friday), (30, -, day), (Oct., 31)]</td>\n",
              "    </tr>\n",
              "    <tr>\n",
              "      <th>19</th>\n",
              "      <td>The Senate approved it without debate during a...</td>\n",
              "      <td>4</td>\n",
              "      <td>[(Senate), (Saturday), (more, than, 3,500)]</td>\n",
              "    </tr>\n",
              "    <tr>\n",
              "      <th>20</th>\n",
              "      <td>Biden signed it by evening.</td>\n",
              "      <td>3</td>\n",
              "      <td>[(Biden), (evening)]</td>\n",
              "    </tr>\n",
              "    <tr>\n",
              "      <th>21</th>\n",
              "      <td>Pelosi, keeping her promise to centrists, had ...</td>\n",
              "      <td>2</td>\n",
              "      <td>[(earlier, Friday), (today), ($, 1, trillion),...</td>\n",
              "    </tr>\n",
              "    <tr>\n",
              "      <th>22</th>\n",
              "      <td>But with Democratic progressives refusing to g...</td>\n",
              "      <td>2</td>\n",
              "      <td>[(Democratic)]</td>\n",
              "    </tr>\n",
              "    <tr>\n",
              "      <th>23</th>\n",
              "      <td>“Out of respect for our colleagues who support...</td>\n",
              "      <td>2</td>\n",
              "      <td>[(Saturday), (House), (Democrats), (Kyrsten, S...</td>\n",
              "    </tr>\n",
              "    <tr>\n",
              "      <th>24</th>\n",
              "      <td>In a statement Saturday, she said the canceled...</td>\n",
              "      <td>1</td>\n",
              "      <td>[(Saturday), (Republicans), (Biden), (Democrat...</td>\n",
              "    </tr>\n",
              "    <tr>\n",
              "      <th>25</th>\n",
              "      <td>The larger of Biden’s proposals is a years-in-...</td>\n",
              "      <td>2</td>\n",
              "      <td>[(Biden), (years), (Democratic), (zero)]</td>\n",
              "    </tr>\n",
              "    <tr>\n",
              "      <th>26</th>\n",
              "      <td>“We will and must pass both bills soon,” Pelos...</td>\n",
              "      <td>5</td>\n",
              "      <td>[]</td>\n",
              "    </tr>\n",
              "    <tr>\n",
              "      <th>27</th>\n",
              "      <td>“We have the responsibility and the opportunit...</td>\n",
              "      <td>5</td>\n",
              "      <td>[]</td>\n",
              "    </tr>\n",
              "    <tr>\n",
              "      <th>28</th>\n",
              "      <td>People are waiting and want results.”\\n\\nThe W...</td>\n",
              "      <td>4</td>\n",
              "      <td>[(The, White, House), (Democrats), (the, Unite...</td>\n",
              "    </tr>\n",
              "    <tr>\n",
              "      <th>29</th>\n",
              "      <td>The House has already acted, but Republicans s...</td>\n",
              "      <td>1</td>\n",
              "      <td>[(House), (Republicans), (Democrats)]</td>\n",
              "    </tr>\n",
              "    <tr>\n",
              "      <th>30</th>\n",
              "      <td>“I hope that the Republicans won’t be so irres...</td>\n",
              "      <td>1</td>\n",
              "      <td>[(Republicans), (Biden), (Saturday)]</td>\n",
              "    </tr>\n",
              "    <tr>\n",
              "      <th>31</th>\n",
              "      <td>“That would be totally unconscionable.</td>\n",
              "      <td>1</td>\n",
              "      <td>[]</td>\n",
              "    </tr>\n",
              "    <tr>\n",
              "      <th>32</th>\n",
              "      <td>Never been done before.</td>\n",
              "      <td>5</td>\n",
              "      <td>[]</td>\n",
              "    </tr>\n",
              "    <tr>\n",
              "      <th>33</th>\n",
              "      <td>And so I hope that won’t happen.”</td>\n",
              "      <td>3</td>\n",
              "      <td>[]</td>\n",
              "    </tr>\n",
              "  </tbody>\n",
              "</table>\n",
              "</div>"
            ],
            "text/plain": [
              "                                    article sentences  ...                                     named entities\n",
              "0   President Joe Biden walks over to speak with m...  ...  [(Joe, Biden), (the, South, Lawn), (the, White...\n",
              "1   Biden is spending the weekend at his home in D...  ...              [(Biden), (the, weekend), (Delaware)]\n",
              "2   (AP Photo/Patrick Semansky)\\n\\nPresident Joe B...  ...  [(AP, Photo, /, Patrick, Semansky), (Joe, Bide...\n",
              "3   Biden is spending the weekend at his home in D...  ...              [(Biden), (the, weekend), (Delaware)]\n",
              "4   (AP Photo/Patrick Semansky)\\n\\nWASHINGTON (AP)...  ...  [(AP, Photo, /, Patrick, Semansky), (WASHINGTO...\n",
              "5   “Everybody’s frustrated, it’s part of being in...  ...  [(Biden), (the, White, House), (a, weekend), (...\n",
              "6   He pledged to ”work like hell” to get the two ...  ...                                            [(two)]\n",
              "7   The president had gone to Capitol Hill on Frid...  ...  [(Capitol, Hill), (Friday), (House), (Democrats)]\n",
              "8   According to lawmakers in the room, he discuss...  ...                               [($, 1.9, trillion)]\n",
              "9   ADVERTISEMENT\\n\\nThe White House and its allie...  ...                  [(The, White, House), (Congress)]\n",
              "10  Biden said he would soon travel around the cou...  ...               [(Biden), (Washington), (trillions)]\n",
              "11  He pledged to do more to educate the public ab...  ...                                                 []\n",
              "12  “I’m going to try to sell what I think the Ame...  ...  [(American), (Biden), (Saturday), (American), ...\n",
              "13  His approval ratings have dropped and Democrat...  ...                                      [(Democrats)]\n",
              "14  His ideas go beyond roads-and-bridges infrastr...  ...                                       [(American)]\n",
              "15  Holdout Democratic Sen. Joe Manchin of West Vi...  ...  [(Democratic), (Joe, Manchin), (West, Virginia...\n",
              "16  ADVERTISEMENT\\n\\nWithout a broader deal, prosp...  ...                                                 []\n",
              "17  House Speaker Nancy Pelosi, D-Calif., told col...  ...               [(House), (Nancy, Pelosi), (Calif.)]\n",
              "18  The House on Friday night passed a 30-day meas...  ...      [(House), (Friday), (30, -, day), (Oct., 31)]\n",
              "19  The Senate approved it without debate during a...  ...        [(Senate), (Saturday), (more, than, 3,500)]\n",
              "20                        Biden signed it by evening.  ...                               [(Biden), (evening)]\n",
              "21  Pelosi, keeping her promise to centrists, had ...  ...  [(earlier, Friday), (today), ($, 1, trillion),...\n",
              "22  But with Democratic progressives refusing to g...  ...                                     [(Democratic)]\n",
              "23  “Out of respect for our colleagues who support...  ...  [(Saturday), (House), (Democrats), (Kyrsten, S...\n",
              "24  In a statement Saturday, she said the canceled...  ...  [(Saturday), (Republicans), (Biden), (Democrat...\n",
              "25  The larger of Biden’s proposals is a years-in-...  ...           [(Biden), (years), (Democratic), (zero)]\n",
              "26  “We will and must pass both bills soon,” Pelos...  ...                                                 []\n",
              "27  “We have the responsibility and the opportunit...  ...                                                 []\n",
              "28  People are waiting and want results.”\\n\\nThe W...  ...  [(The, White, House), (Democrats), (the, Unite...\n",
              "29  The House has already acted, but Republicans s...  ...              [(House), (Republicans), (Democrats)]\n",
              "30  “I hope that the Republicans won’t be so irres...  ...               [(Republicans), (Biden), (Saturday)]\n",
              "31             “That would be totally unconscionable.  ...                                                 []\n",
              "32                            Never been done before.  ...                                                 []\n",
              "33                  And so I hope that won’t happen.”  ...                                                 []\n",
              "\n",
              "[34 rows x 3 columns]"
            ]
          },
          "metadata": {},
          "execution_count": 46
        }
      ]
    }
  ]
}